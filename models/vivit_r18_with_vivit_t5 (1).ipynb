{
 "cells": [
  {
   "cell_type": "code",
   "execution_count": 1,
   "id": "6863f669",
   "metadata": {
    "colab": {
     "base_uri": "https://localhost:8080/"
    },
    "id": "6863f669",
    "outputId": "3428073a-e5b6-4a6d-9b1e-bdc65a2d2715"
   },
   "outputs": [],
   "source": [
    "# # IMPORTANT: RUN THIS CELL IN ORDER TO IMPORT YOUR KAGGLE DATA SOURCES,\n",
    "# # THEN FEEL FREE TO DELETE THIS CELL.\n",
    "# # NOTE: THIS NOTEBOOK ENVIRONMENT DIFFERS FROM KAGGLE'S PYTHON\n",
    "# # ENVIRONMENT SO THERE MAY BE MISSING LIBRARIES USED BY YOUR\n",
    "# # NOTEBOOK.\n",
    "# import kagglehub\n",
    "# naneet1_hmmmmmm_path = kagglehub.dataset_download('naneet1/hmmmmmm')\n",
    "\n",
    "# print('Data source import complete.')"
   ]
  },
  {
   "cell_type": "code",
   "execution_count": 2,
   "id": "44bca3ea",
   "metadata": {
    "colab": {
     "base_uri": "https://localhost:8080/"
    },
    "id": "44bca3ea",
    "outputId": "12ba985b-927c-450a-f9bd-a8444b38e739",
    "scrolled": true
   },
   "outputs": [],
   "source": [
    "# !pip install jiwer\n",
    "# !pip install transformers\n",
    "# !pip install matplotlib"
   ]
  },
  {
   "cell_type": "code",
   "execution_count": 3,
   "id": "06ca011b",
   "metadata": {
    "colab": {
     "base_uri": "https://localhost:8080/"
    },
    "id": "06ca011b",
    "outputId": "0909546a-f978-494a-d5ff-efccd779994f"
   },
   "outputs": [],
   "source": [
    "import torch\n",
    "from torch import nn\n",
    "from torchvision import models, transforms\n",
    "from torch.utils.data import Dataset, DataLoader, random_split\n",
    "from torch.amp import autocast, GradScaler\n",
    "import torchvision\n",
    "from torch.optim.lr_scheduler import ReduceLROnPlateau\n",
    "\n",
    "from transformers import T5ForConditionalGeneration, T5Config, VivitConfig, VivitModel\n",
    "\n",
    "# from tqdm.notebook import tqdm\n",
    "from tqdm import tqdm\n",
    "from PIL import Image\n",
    "import json\n",
    "import os\n",
    "import numpy as np\n",
    "import random\n",
    "from jiwer import wer\n",
    "\n",
    "import matplotlib.pyplot as plt\n",
    "import matplotlib.gridspec as gridspec"
   ]
  },
  {
   "cell_type": "code",
   "execution_count": 4,
   "id": "6cf41de8",
   "metadata": {
    "id": "6cf41de8"
   },
   "outputs": [],
   "source": [
    "def show_sequence(sequence, NUM_FRAMES):\n",
    "    columns = 4\n",
    "    rows = (NUM_FRAMES + 1) // (columns)\n",
    "    fig = plt.figure(figsize=(32, (16 // columns) * rows))\n",
    "    gs = gridspec.GridSpec(rows, columns)\n",
    "    for j in range(rows * columns):\n",
    "        plt.subplot(gs[j])\n",
    "        plt.axis(\"off\")\n",
    "        frames = sequence[j].permute(1,2,0).numpy()\n",
    "        frames = frames/ frames.max()\n",
    "        plt.imshow(frames)\n",
    "\n",
    "    plt.show()"
   ]
  },
  {
   "cell_type": "code",
   "execution_count": 5,
   "id": "cfd8dc14",
   "metadata": {
    "id": "cfd8dc14"
   },
   "outputs": [],
   "source": [
    "device = 'cuda' if torch.cuda.is_available() else 'cpu'\n",
    "random.seed(42)"
   ]
  },
  {
   "cell_type": "code",
   "execution_count": 6,
   "id": "d6450ee0",
   "metadata": {
    "id": "d6450ee0"
   },
   "outputs": [],
   "source": [
    "train_csv = \"/workspace/hmm/phoenix/annotations/manual/train.corpus.csv\"\n",
    "test_csv = \"/workspace/hmm/phoenix/annotations/manual/test.corpus.csv\"\n",
    "dev_csv = \"/workspace/hmm/phoenix/annotations/manual/dev.corpus.csv\"\n",
    "\n",
    "train_paths = \"/workspace/hmm/phoenix/fullFrame-210x260px/train\"\n",
    "test_paths = \"/workspace/hmm/phoenix/fullFrame-210x260px/test\"\n",
    "dev_paths =  \"/workspace/hmm/phoenix/fullFrame-210x260px/dev\""
   ]
  },
  {
   "cell_type": "code",
   "execution_count": 7,
   "id": "5d5285d5",
   "metadata": {
    "id": "5d5285d5"
   },
   "outputs": [],
   "source": [
    "max_frames = 32"
   ]
  },
  {
   "cell_type": "code",
   "execution_count": 8,
   "id": "2510d479",
   "metadata": {
    "id": "2510d479"
   },
   "outputs": [],
   "source": [
    "num_workers = 4\n",
    "batch_size = 8"
   ]
  },
  {
   "cell_type": "code",
   "execution_count": 9,
   "id": "5e8e643c",
   "metadata": {
    "id": "5e8e643c"
   },
   "outputs": [],
   "source": [
    "word_to_idx = { '<p>':0, '<s>':1, '</s>':2}\n",
    "idx_to_word = ['<p>', '<s>', '</s>']\n",
    "\n",
    "arr_train = np.loadtxt(train_csv, delimiter='|', dtype='str')\n",
    "arr_train = np.delete(arr_train,0,0)\n",
    "arr_test = np.loadtxt(test_csv, delimiter='|', dtype='str')\n",
    "arr_test = np.delete(arr_test,0,0)\n",
    "arr_dev = np.loadtxt(dev_csv, delimiter='|', dtype='str')\n",
    "arr_dev = np.delete(arr_dev,0,0)\n",
    "\n",
    "arr = np.concatenate((arr_train, arr_test, arr_dev), axis=0)\n",
    "\n",
    "for sentence in arr:\n",
    "    for word in sentence[3].split(' '):\n",
    "        if word not in idx_to_word:\n",
    "            idx_to_word.append(word)\n",
    "            word_to_idx[word] = len(idx_to_word)-1"
   ]
  },
  {
   "cell_type": "code",
   "execution_count": 10,
   "id": "240964dc",
   "metadata": {
    "colab": {
     "base_uri": "https://localhost:8080/"
    },
    "id": "240964dc",
    "outputId": "b8cf4436-a411-462f-82ef-9fbd7bc4662f"
   },
   "outputs": [
    {
     "data": {
      "text/plain": [
       "(1299, 1299)"
      ]
     },
     "execution_count": 10,
     "metadata": {},
     "output_type": "execute_result"
    }
   ],
   "source": [
    "len(idx_to_word), len(word_to_idx)"
   ]
  },
  {
   "cell_type": "code",
   "execution_count": 11,
   "id": "04259044",
   "metadata": {
    "id": "04259044"
   },
   "outputs": [],
   "source": [
    "class rwth_phoenix(Dataset):\n",
    "    def __init__(self, csv, data_path, frame_transform, video_transform, input_fps, output_fps, max_frames, stride, word_dict):\n",
    "\n",
    "        temp = np.loadtxt(csv, delimiter='|', dtype='str')\n",
    "        self.csv = np.delete(temp, 0, 0)\n",
    "        self.word_dict = word_dict\n",
    "        self.data_path = data_path\n",
    "\n",
    "        self.frame_transform = frame_transform\n",
    "        self.video_transform = video_transform\n",
    "\n",
    "        self.input_fps = input_fps\n",
    "        self.output_fps = output_fps\n",
    "        self.max_frames = max_frames\n",
    "        self.stride = stride\n",
    "\n",
    "\n",
    "    def __len__(self):\n",
    "        return len(self.csv)\n",
    "\n",
    "\n",
    "    def __getitem__(self, idx):\n",
    "        folder = self.csv[idx][1].split('/')\n",
    "        label = self.csv[idx][3].split(' ')\n",
    "\n",
    "        words = []\n",
    "        for word in label:\n",
    "            words.append(self.word_dict[word])\n",
    "        label = torch.tensor(words)\n",
    "        image_folder_path = os.path.join(self.data_path, folder[0], folder[1])\n",
    "\n",
    "        images = os.listdir(image_folder_path)\n",
    "        end = len(images)\n",
    "\n",
    "        step = self.input_fps/random.choice(self.output_fps)\n",
    "        image_list = []\n",
    "        if int(end//step +1) <= self.max_frames:\n",
    "            frame_num, num = 0, 0\n",
    "            while frame_num < end:\n",
    "                num+=1\n",
    "                if self.stride and num%self.stride == 0:\n",
    "                    image_list.append(str(int(frame_num))+'a')\n",
    "\n",
    "                else:\n",
    "                    img = Image.open(os.path.join(image_folder_path, images[int(frame_num)]))\n",
    "                    tensor_img = self.frame_transform(img)\n",
    "                    image_list.append(tensor_img)\n",
    "                frame_num += step\n",
    "\n",
    "            c, h, w = image_list[-1].shape\n",
    "            while len(image_list) < self.max_frames:\n",
    "                image_list.append(torch.zeros(c,h,w))\n",
    "\n",
    "            tensor_video = torch.stack(image_list[:self.max_frames])\n",
    "            tensor_video = self.video_transform(tensor_video)\n",
    "\n",
    "        else:\n",
    "            frame_positions = np.linspace(0, end, self.max_frames, endpoint=False)\n",
    "            num = 0\n",
    "            for n in frame_positions:\n",
    "                num+=1\n",
    "                if self.stride and num%self.stride == 0:\n",
    "                    image_list.append(str(int(n))+'a')\n",
    "\n",
    "                else:\n",
    "                    img = Image.open(os.path.join(image_folder_path, images[int(n)]))\n",
    "                    tensor_img = self.frame_transform(img)\n",
    "                    image_list.append(tensor_img)\n",
    "\n",
    "            tensor_video = torch.stack(image_list[:self.max_frames])\n",
    "            tensor_video = self.video_transform(tensor_video)\n",
    "\n",
    "\n",
    "        return tensor_video, label"
   ]
  },
  {
   "cell_type": "code",
   "execution_count": 12,
   "id": "c0c4203f",
   "metadata": {
    "id": "c0c4203f"
   },
   "outputs": [],
   "source": [
    "image_transform = transforms.Compose([\n",
    "    transforms.ToTensor(),\n",
    "    transforms.RandomCrop((248,200)),\n",
    "    transforms.Resize((224,224)),\n",
    "    transforms.RandomRotation((-5,5))\n",
    "])\n",
    "\n",
    "video_transform = transforms.Compose([\n",
    "    transforms.RandomHorizontalFlip(0.5)\n",
    "])"
   ]
  },
  {
   "cell_type": "code",
   "execution_count": 13,
   "id": "b44498ed",
   "metadata": {
    "id": "b44498ed"
   },
   "outputs": [],
   "source": [
    "image_test_transform = transforms.Compose([\n",
    "    transforms.ToTensor(),\n",
    "    transforms.Resize((224,224)),\n",
    "])\n",
    "\n",
    "video_test_transform = transforms.Compose([\n",
    "    transforms.RandomHorizontalFlip(0)\n",
    "])"
   ]
  },
  {
   "cell_type": "code",
   "execution_count": 14,
   "id": "612c2647",
   "metadata": {
    "id": "612c2647"
   },
   "outputs": [],
   "source": [
    "def collate_fn(batch):\n",
    "    sos_token = 1\n",
    "    eos_token = 2\n",
    "\n",
    "    vid, labels = zip(*batch)\n",
    "    vid = torch.stack(vid)\n",
    "\n",
    "    sequence_lens = [len(label) for label in labels]\n",
    "    max_len = max(sequence_lens) + 2\n",
    "\n",
    "    # Pad labels with SOS and EOS tokens\n",
    "    y_input = torch.full((len(labels), max_len), fill_value=0, dtype=torch.long)\n",
    "    y_target = torch.full((len(labels), max_len), fill_value=0, dtype=torch.long)\n",
    "\n",
    "    for i, label in enumerate(labels):\n",
    "        y_input[i, 0] = sos_token\n",
    "        y_input[i, 1:len(label) + 1] = label\n",
    "        y_target[i, 0:len(label)] = label\n",
    "        y_target[i, len(label)] = eos_token\n",
    "\n",
    "    return vid, y_input, y_target"
   ]
  },
  {
   "cell_type": "code",
   "execution_count": 15,
   "id": "e540a270",
   "metadata": {
    "id": "e540a270"
   },
   "outputs": [],
   "source": [
    "train_dataset = rwth_phoenix(csv=train_csv,\n",
    "                       data_path=train_paths,\n",
    "                        frame_transform=image_transform , video_transform=video_transform, input_fps=25, output_fps=list(range(4,10)), max_frames=max_frames, stride=0, word_dict=word_to_idx)\n",
    "\n",
    "test_dataset = rwth_phoenix(csv=test_csv,\n",
    "                       data_path=test_paths,\n",
    "                        frame_transform=image_test_transform , video_transform=video_test_transform, input_fps=25, output_fps=list(range(4,10)), max_frames=max_frames, stride=0, word_dict=word_to_idx)\n",
    "\n",
    "dev_dataset = rwth_phoenix(csv=dev_csv,\n",
    "                       data_path=dev_paths,\n",
    "                        frame_transform=image_test_transform , video_transform=video_test_transform, input_fps=25, output_fps=list(range(4,10)), max_frames=max_frames, stride=0, word_dict=word_to_idx)"
   ]
  },
  {
   "cell_type": "code",
   "execution_count": 16,
   "id": "e7c8b65f",
   "metadata": {
    "colab": {
     "base_uri": "https://localhost:8080/"
    },
    "id": "e7c8b65f",
    "outputId": "a99854c9-dab6-4937-c34a-4d76e8aced2b"
   },
   "outputs": [
    {
     "data": {
      "text/plain": [
       "torch.Size([32, 3, 224, 224])"
      ]
     },
     "execution_count": 16,
     "metadata": {},
     "output_type": "execute_result"
    }
   ],
   "source": [
    "train_dataset[0][0].shape"
   ]
  },
  {
   "cell_type": "code",
   "execution_count": 17,
   "id": "a54a5373",
   "metadata": {
    "id": "a54a5373"
   },
   "outputs": [],
   "source": [
    "train_dataloader = DataLoader(dataset=train_dataset, shuffle=True, batch_size=batch_size, collate_fn=collate_fn,prefetch_factor=5,num_workers=num_workers, pin_memory=True)\n",
    "test_dataloader = DataLoader(dataset=test_dataset, shuffle=False, batch_size=batch_size, collate_fn=collate_fn,prefetch_factor=5,num_workers=num_workers, pin_memory=True)\n",
    "dev_dataloader = DataLoader(dataset=dev_dataset, shuffle=False, batch_size=batch_size, collate_fn=collate_fn,prefetch_factor=5,num_workers=num_workers, pin_memory=True)"
   ]
  },
  {
   "cell_type": "code",
   "execution_count": 18,
   "id": "38791323",
   "metadata": {
    "id": "38791323"
   },
   "outputs": [],
   "source": [
    "scaler = GradScaler('cuda')\n",
    "\n",
    "def decode_token(tensor, idx_to_word=idx_to_word):\n",
    "    n = tensor.shape[0]\n",
    "    text = []\n",
    "    for i in range(n):\n",
    "        st = ''\n",
    "        for token in tensor[i]:\n",
    "            if token == 2:\n",
    "                break\n",
    "            elif token != 1 and token != 0:\n",
    "                st += idx_to_word[token.item()]\n",
    "        text.append(st)\n",
    "    return text\n",
    "\n",
    "def train_step(model, optimizer, dataloader, loss_fn, epoch, device=\"cuda\"):\n",
    "    model.train()\n",
    "    train_loss, total_correct_wer = 0, 0\n",
    "\n",
    "    for X, y_input, y_target in tqdm(dataloader, 'Training'):\n",
    "        X, y_input, y_target = X.to(device), y_input.to(device), y_target.to(device)\n",
    "        with autocast('cuda'):\n",
    "            y_logit = model(X, y_input)\n",
    "\n",
    "            if y_logit.isnan().any():\n",
    "                print(\"ABORT!!!! \\nNan found in y_logit!\")\n",
    "\n",
    "            loss = loss_fn(y_logit.permute(0,2,1), y_target)\n",
    "            train_loss += loss.item()\n",
    "\n",
    "        scaler.scale(loss).backward()\n",
    "        torch.nn.utils.clip_grad_norm_(model.parameters(), max_norm=1.0)\n",
    "        scaler.step(optimizer)\n",
    "        scaler.update()\n",
    "        optimizer.zero_grad()\n",
    "\n",
    "        y_pred = torch.argmax(y_logit, dim=2)\n",
    "        total_correct_wer += wer(decode_token(y_target), decode_token(y_pred))\n",
    "        del X, y_input, y_target, y_logit, loss, y_pred\n",
    "\n",
    "    acc_wer = (total_correct_wer / len(dataloader)) * 100\n",
    "    avg_loss = train_loss / len(dataloader)\n",
    "\n",
    "    print(f\"Epoch {epoch} | Train Loss: {avg_loss:.4f} | Train WER: {acc_wer:.2f}%\")\n",
    "\n",
    "\n",
    "def test_step(model, loss_fn, epoch, dataloader, scheduler, device=\"cuda\"):\n",
    "    model.eval()\n",
    "    test_loss, total_correct_wer = 0, 0\n",
    "\n",
    "    for X, y_input, y_target in tqdm(dataloader, 'Testing'):\n",
    "        X, y_input, y_target = X.to(device), y_input.to(device), y_target.to(device)\n",
    "\n",
    "        with autocast('cuda'):\n",
    "            y_logit = model(X, y_input)\n",
    "\n",
    "            if y_logit.isnan().any():\n",
    "                print(\"ABORT!!!! \\nNan found in y_logit!\")\n",
    "\n",
    "            loss = loss_fn(y_logit.permute(0,2,1), y_target)\n",
    "            test_loss += loss.item()\n",
    "\n",
    "        y_pred = torch.argmax(y_logit, dim=2)\n",
    "        total_correct_wer += wer(decode_token(y_target), decode_token(y_pred))\n",
    "        del X, y_input, y_target, y_logit, loss, y_pred\n",
    "\n",
    "    acc_wer = (total_correct_wer / len(dataloader)) * 100\n",
    "    avg_loss = test_loss / len(dataloader)\n",
    "\n",
    "    if isinstance(scheduler, torch.optim.lr_scheduler.ReduceLROnPlateau):\n",
    "        scheduler.step(avg_loss)\n",
    "\n",
    "    print(f\"Epoch {epoch} | Test Loss: {avg_loss:.4f} | Test WER: {acc_wer:.2f}%\")"
   ]
  },
  {
   "cell_type": "code",
   "execution_count": 19,
   "id": "af3e3e50",
   "metadata": {
    "id": "af3e3e50"
   },
   "outputs": [],
   "source": [
    "class SpatialFeatureExtractor(nn.Module):\n",
    "    def __init__(self):\n",
    "        super().__init__()\n",
    "        resnet = models.resnet18(pretrained=True)\n",
    "        self.cnn2d = nn.Sequential(*list(resnet.children())[:-3])\n",
    "        self.cnn3d = nn.Conv3d(256, 512, kernel_size=(2, 1, 1), stride=(2, 1, 1))\n",
    "        configuration = VivitConfig(num_frames=16, num_channels=512, tubelet_size=[1,1,1], num_hidden_layers=4, image_size=14,)\n",
    "        self.vivit = VivitModel(configuration)\n",
    "\n",
    "    def forward(self, x):\n",
    "        # x: [B, F, C, H, W]\n",
    "        b, f, c, h, w = x.shape\n",
    "        x = x.view(b * f, c, h, w)\n",
    "        features = self.cnn2d(x)\n",
    "        c2, h2, w2 = features.shape[1:]\n",
    "        features = features.view(b, f, c2, h2, w2)\n",
    "        features = self.cnn3d(features.permute(0,2,1,3,4))\n",
    "        features = features.permute(0,2,1,3,4)\n",
    "        features = self.vivit(features).last_hidden_state\n",
    "        return features\n",
    "\n",
    "\n",
    "\n",
    "class ViViT_SLR(nn.Module):\n",
    "    def __init__(self,\n",
    "                 vivit_weights = \"google/vivit-b-16x2-kinetics400\",\n",
    "                 t5_weights = \"google-t5/t5-base\",\n",
    "                 vocab_size = 1299,\n",
    "                 batch_first=True,\n",
    "                 num_heads=4,\n",
    "                 pad_token=0,\n",
    "                 sos_token=1,\n",
    "                 eos_token=2,\n",
    "                 residual_ratio=0,\n",
    "                 max_pred=512):\n",
    "\n",
    "        super(ViViT_SLR, self).__init__()\n",
    "\n",
    "        self.vivit_weights = vivit_weights\n",
    "        self.t5_weights = t5_weights\n",
    "        self.vivit = VivitModel.from_pretrained(self.vivit_weights, attn_implementation=\"sdpa\", torch_dtype=torch.float32)\n",
    "        self.r18 = SpatialFeatureExtractor()\n",
    "        self.cross_attn = nn.MultiheadAttention(embed_dim=768, num_heads=num_heads, batch_first=batch_first)\n",
    "\n",
    "        self.non_linear = nn.Sequential(\n",
    "            nn.Linear(in_features=512, out_features=640),\n",
    "            nn.ReLU(),\n",
    "            nn.Linear(in_features=640, out_features=768)\n",
    "        )\n",
    "        self.linear = nn.Linear(512, 768)\n",
    "\n",
    "        self.residual_ratio = residual_ratio\n",
    "\n",
    "        self.normalize = nn.LayerNorm(768)\n",
    "\n",
    "        self.t5 = self.copy_pretrained_T5_weights()\n",
    "\n",
    "        self.pad_token = pad_token\n",
    "        self.sos_token = sos_token\n",
    "        self.eos_token = eos_token\n",
    "        self.vocab_size = vocab_size\n",
    "\n",
    "        self.max_pred = max_pred\n",
    "\n",
    "        self.fc_out = nn.Linear(768, vocab_size)\n",
    "\n",
    "        self.init_weights()\n",
    "\n",
    "\n",
    "    def forward(self, vid, y_tokens):\n",
    "\n",
    "\n",
    "        encoded_output1 = self.vivit(vid).last_hidden_state\n",
    "        encoded_output2 = self.r18(vid)\n",
    "        encoded_output1 = self.normalize(encoded_output1)\n",
    "        encoded_output2 = self.normalize(encoded_output2)\n",
    "\n",
    "        attn_output, _ = self.cross_attn(query=encoded_output1[:, :3136, :], key=encoded_output2[:, :3136, :], value=encoded_output1[:, :3136, :])\n",
    "\n",
    "        # print(\"Encoded Output 1 (ViViT)\")\n",
    "        # print(\"Min:\", encoded_output1.min().item())\n",
    "        # print(\"Max:\", encoded_output1.max().item())\n",
    "        # print(\"Mean:\", encoded_output1.mean().item())\n",
    "        # print(\"Std Dev:\", encoded_output1.std().item())\n",
    "        # print(\"-\" * 30)\n",
    "\n",
    "        # print(\"Encoded Output 2 (r3d_18)\")\n",
    "        # print(\"Min:\", encoded_output2.min().item())\n",
    "        # print(\"Max:\", encoded_output2.max().item())\n",
    "        # print(\"Mean:\", encoded_output2.mean().item())\n",
    "        # print(\"Std Dev:\", encoded_output2.std().item())\n",
    "        # print(\"-\" * 30)\n",
    "\n",
    "        # print(\"Cross Attention Output\")\n",
    "        # print(\"Min:\", attn_output.min().item())\n",
    "        # print(\"Max:\", attn_output.max().item())\n",
    "        # print(\"Mean:\", attn_output.mean().item())\n",
    "        # print(\"Std Dev:\", attn_output.std().item())\n",
    "        # print(\"-\" * 30)\n",
    "\n",
    "        decoder_attention_mask = (y_tokens != self.pad_token).long()\n",
    "        decoded_output = self.t5.decoder(input_ids=y_tokens, encoder_hidden_states=attn_output, attention_mask=decoder_attention_mask).last_hidden_state\n",
    "        logit = self.fc_out(decoded_output)\n",
    "\n",
    "        return logit\n",
    "\n",
    "    def init_weights(self):\n",
    "\n",
    "        # Output Linear\n",
    "        nn.init.xavier_uniform_(self.fc_out.weight)\n",
    "        if self.fc_out.bias is not None:\n",
    "            nn.init.constant_(self.fc_out.bias, 0)\n",
    "\n",
    "    def copy_pretrained_T5_weights(self):\n",
    "\n",
    "        config = T5Config.from_pretrained(self.t5_weights)\n",
    "        config.vocab_size = 1299\n",
    "        config.decoder_start_token_id = 1\n",
    "        new_model = T5ForConditionalGeneration(config)\n",
    "        pretrained_model = T5ForConditionalGeneration.from_pretrained(self.t5_weights)\n",
    "\n",
    "        pretrained_dict = pretrained_model.state_dict()\n",
    "        new_dict = new_model.state_dict()\n",
    "\n",
    "        # Copy only weights that match shape and exclude embeddings & lm_head\n",
    "        filtered_dict = {}\n",
    "        for k, v in pretrained_dict.items():\n",
    "            if (\n",
    "                k in new_dict\n",
    "                and not k.startswith(\"shared\")\n",
    "                and \"embed_tokens\" not in k\n",
    "                and \"lm_head\" not in k\n",
    "                and new_dict[k].shape == v.shape  # ensure shape matches\n",
    "            ):\n",
    "                filtered_dict[k] = v\n",
    "\n",
    "        print(f\"Copying {len(filtered_dict)} weights from pretrained T5 model.\")\n",
    "        new_dict.update(filtered_dict)\n",
    "        new_model.load_state_dict(new_dict)\n",
    "        return new_model"
   ]
  },
  {
   "cell_type": "code",
   "execution_count": 20,
   "id": "77cd18b0",
   "metadata": {
    "id": "77cd18b0"
   },
   "outputs": [],
   "source": [
    "lr = 1e-4\n",
    "dropout = 0.1"
   ]
  },
  {
   "cell_type": "code",
   "execution_count": 21,
   "id": "77d074fe",
   "metadata": {
    "colab": {
     "base_uri": "https://localhost:8080/",
     "height": 263,
     "referenced_widgets": [
      "c71863618b544b4cbb9e63f611f5188a",
      "ee2727c8b59d4aafb840ca9fe17a02a4",
      "780ef69a285c4721986522f8561a622c",
      "8e4ef9adce7f458bb4e050c7f89bcf07",
      "497226411bab46a59ecae438870b63d5",
      "979bd8cad277431a88d142b98c8858e5",
      "0d69a30793cd4171a35a65b18ac3c5f9",
      "5d04a5ec16174be18a163428bc3b48a0",
      "f18d0b33c66b4034a6a124046a6d0d23",
      "25d0800a790e4458ad5f69962113bf61",
      "dbea70edd0f448ddb9261d56ad7daf2b",
      "f804a0c393074b44806fa44ce31264b0",
      "2d65977aec51492f9f03fcf18d2a4d55",
      "c01e06a439e3459eb35b4697351d24d0",
      "eacdf4f346924a2c995ff1623f8cd1a7",
      "6652062dc57347d690977bc4d2b9c9e4",
      "90d9057827b8495690565e6373154b98",
      "4c9790c0c51849efb62c390b255bf1bb",
      "7ae9efd034a444b6a617a0ee0f376fdd",
      "aca793d4833b4975bdb586f8b88b2463",
      "9882970928a44a4e86af27ee22b7acc9",
      "5757caddcfd049b5a56fd45c1026a073",
      "849d8dc7f3094a0eabdf901cb3f4d7d2",
      "41398cb782df410ebe3e630b9eb7b697",
      "f015f46172874a0bad5043369972342d",
      "49295f013beb43c99aff9b24f7edff04",
      "b8ff37aa3fb14352920a3c5a4aecaa16",
      "c178552a9d5844cbac4af5e64c4417f0",
      "d64cf0cd91a9472cb43541d8db5eb216",
      "45dcd6ca200145dea39faf82ca531893",
      "efd81974a8c8479fb67686deea5654d8",
      "87826c78a9504fdb92368b56d0519372",
      "9d2d70a2b5b44cd0a052707d523694ce",
      "abd2c86d1f1f48969fb45210a3e13075",
      "ca773282c7074ae18f55fa856943b2a9",
      "b576778b68d1443d99f3ed15abb21d10",
      "9157beba0fc8482b8667a92f4a37e669",
      "8f54c4504c8f43f1823a5f817fa5c5a1",
      "23b8cda1e1d74ca4a98a35a1e7df97a3",
      "2e0b66d3acdf41d7aa5691f4a07b829f",
      "3703e9d62b8b442c871220be5a180cb0",
      "7992f0356f48454c82094fb447b756ae",
      "6a8c9587e5d34b4a8c3a19e21c6dd6e8",
      "e7438f5f90a54f6bafbfedefbb2ebbba",
      "4b578ea47c874a78832022aa151e9665",
      "1770f2c941d24560a6d588fd673d8f55",
      "b0becd0b507c49f8b43c8099f4362111",
      "0b307114ea3d4401a6962d0e882f5d74",
      "9ddef57a51db4edfa7db2b2f992bfeb7",
      "28b1c9d944c24f7c84663d2189d7f368",
      "654cf7e39fc84dfebf3f85f3234abf27",
      "4a88d9f488334f8499109f9f7a6d550a",
      "c0c800233f434e52b2380892c81bb055",
      "5c19f165dd7244948e548a7a814ee732",
      "1b538b6478e44f23bbf461ab1d993506",
      "01cc82345e7a4cdc9e6f468307c9fc51",
      "6c3e37e8377348a29fb5173fc0babd31",
      "d8e2b52df0304c22ab5e9423062f5ae3",
      "d21ede208ace483484a09810b5606391",
      "78384ae4a7bd4fc1a003381a4e6b7344",
      "f2fac7a6889d49759e3b4052bb2c26a6",
      "7a55e8785f0b4623bfb9f6d867860e80",
      "b8660bd63ab14a4cb0d300c5a8fbed0e",
      "85a0fded05fe44bd810ee70599ff9bcc",
      "5715ee8a16344c98b22016f871a1087b",
      "ea5576ca076846bfb665b4e4a37af97f"
     ]
    },
    "id": "77d074fe",
    "outputId": "a9cb698b-ce9f-4f2c-eb52-8d340e723ebb"
   },
   "outputs": [
    {
     "name": "stderr",
     "output_type": "stream",
     "text": [
      "Some weights of VivitModel were not initialized from the model checkpoint at google/vivit-b-16x2-kinetics400 and are newly initialized: ['pooler.dense.bias', 'pooler.dense.weight']\n",
      "You should probably TRAIN this model on a down-stream task to be able to use it for predictions and inference.\n",
      "/usr/local/lib/python3.11/dist-packages/torchvision/models/_utils.py:208: UserWarning: The parameter 'pretrained' is deprecated since 0.13 and may be removed in the future, please use 'weights' instead.\n",
      "  warnings.warn(\n",
      "/usr/local/lib/python3.11/dist-packages/torchvision/models/_utils.py:223: UserWarning: Arguments other than a weight enum or `None` for 'weights' are deprecated since 0.13 and may be removed in the future. The current behavior is equivalent to passing `weights=ResNet18_Weights.IMAGENET1K_V1`. You can also use `weights=ResNet18_Weights.DEFAULT` to get the most up-to-date weights.\n",
      "  warnings.warn(msg)\n"
     ]
    },
    {
     "name": "stdout",
     "output_type": "stream",
     "text": [
      "Copying 256 weights from pretrained T5 model.\n"
     ]
    }
   ],
   "source": [
    "torch.manual_seed(42)\n",
    "torch.cuda.manual_seed(42)\n",
    "device = \"cuda\"\n",
    "\n",
    "model = ViViT_SLR().to(device)\n",
    "model = nn.DataParallel(model)\n",
    "# checkpoint = torch.load(f=\"/kaggle/input/vvocr_final/pytorch/default/1/VVOCR.pth\")\n",
    "# new_state_dict = checkpoint[\"model_state_dict\"]\n",
    "# model.load_state_dict(new_state_dict, strict=True)\n",
    "# model = nn.DataParallel(model)\n",
    "# checkpoint = torch.load(f=\"/kaggle/input/vvocr/pytorch/default/1/VVOCR.pth\")\n",
    "# from collections import OrderedDict\n",
    "\n",
    "# new_state_dict = OrderedDict()\n",
    "# for k, v in checkpoint['model_state_dict'].items():\n",
    "#     new_key = k.replace(\"module.\", \"\")  # strip 'module.' prefix\n",
    "#     new_state_dict[new_key] = v\n",
    "# model.load_state_dict(new_state_dict, strict=True)\n",
    "\n",
    "loss_fn = nn.CrossEntropyLoss(ignore_index=0, label_smoothing=0.1)\n",
    "optimizer = torch.optim.Adam(model.parameters(), lr=lr)\n",
    "scheduler = ReduceLROnPlateau(\n",
    "    optimizer,\n",
    "    mode='min',\n",
    "    factor=0.5,\n",
    "    patience=2,\n",
    "    min_lr=1e-6,\n",
    ")"
   ]
  },
  {
   "cell_type": "code",
   "execution_count": null,
   "id": "f18f767f",
   "metadata": {
    "colab": {
     "base_uri": "https://localhost:8080/",
     "height": 445
    },
    "id": "f18f767f",
    "outputId": "0f385a6f-85c8-426b-cad1-60fc7e959737"
   },
   "outputs": [
    {
     "name": "stderr",
     "output_type": "stream",
     "text": [
      "Training:   0%|          | 0/709 [00:00<?, ?it/s]Passing a tuple of `past_key_values` is deprecated and will be removed in Transformers v4.48.0. You should pass an instance of `EncoderDecoderCache` instead, e.g. `past_key_values=EncoderDecoderCache.from_legacy_cache(past_key_values)`.\n",
      "Training: 100%|██████████| 709/709 [10:27<00:00,  1.13it/s]\n"
     ]
    },
    {
     "name": "stdout",
     "output_type": "stream",
     "text": [
      "Epoch 1 | Train Loss: 5.7322 | Train WER: 100.00%\n"
     ]
    },
    {
     "name": "stderr",
     "output_type": "stream",
     "text": [
      "Testing: 100%|██████████| 79/79 [00:25<00:00,  3.13it/s]\n"
     ]
    },
    {
     "name": "stdout",
     "output_type": "stream",
     "text": [
      "Epoch 1 | Test Loss: 5.4924 | Test WER: 100.00%\n"
     ]
    },
    {
     "name": "stderr",
     "output_type": "stream",
     "text": [
      "Training: 100%|██████████| 709/709 [10:24<00:00,  1.14it/s]\n"
     ]
    },
    {
     "name": "stdout",
     "output_type": "stream",
     "text": [
      "Epoch 2 | Train Loss: 5.3643 | Train WER: 100.00%\n"
     ]
    },
    {
     "name": "stderr",
     "output_type": "stream",
     "text": [
      "Testing: 100%|██████████| 79/79 [00:25<00:00,  3.13it/s]\n"
     ]
    },
    {
     "name": "stdout",
     "output_type": "stream",
     "text": [
      "Epoch 2 | Test Loss: 5.3652 | Test WER: 100.00%\n"
     ]
    },
    {
     "name": "stderr",
     "output_type": "stream",
     "text": [
      "Training: 100%|██████████| 709/709 [10:25<00:00,  1.13it/s]\n"
     ]
    },
    {
     "name": "stdout",
     "output_type": "stream",
     "text": [
      "Epoch 3 | Train Loss: 5.2329 | Train WER: 100.00%\n"
     ]
    },
    {
     "name": "stderr",
     "output_type": "stream",
     "text": [
      "Testing: 100%|██████████| 79/79 [00:25<00:00,  3.14it/s]\n"
     ]
    },
    {
     "name": "stdout",
     "output_type": "stream",
     "text": [
      "Epoch 3 | Test Loss: 5.2725 | Test WER: 100.00%\n"
     ]
    },
    {
     "name": "stderr",
     "output_type": "stream",
     "text": [
      "Training: 100%|██████████| 709/709 [10:28<00:00,  1.13it/s]\n"
     ]
    },
    {
     "name": "stdout",
     "output_type": "stream",
     "text": [
      "Epoch 4 | Train Loss: 5.1199 | Train WER: 100.00%\n"
     ]
    },
    {
     "name": "stderr",
     "output_type": "stream",
     "text": [
      "Testing: 100%|██████████| 79/79 [00:25<00:00,  3.12it/s]\n"
     ]
    },
    {
     "name": "stdout",
     "output_type": "stream",
     "text": [
      "Epoch 4 | Test Loss: 5.2067 | Test WER: 100.00%\n"
     ]
    },
    {
     "name": "stderr",
     "output_type": "stream",
     "text": [
      "Training: 100%|██████████| 709/709 [10:29<00:00,  1.13it/s]\n"
     ]
    },
    {
     "name": "stdout",
     "output_type": "stream",
     "text": [
      "Epoch 5 | Train Loss: 5.0669 | Train WER: 100.00%\n"
     ]
    },
    {
     "name": "stderr",
     "output_type": "stream",
     "text": [
      "Testing: 100%|██████████| 79/79 [00:25<00:00,  3.10it/s]\n"
     ]
    },
    {
     "name": "stdout",
     "output_type": "stream",
     "text": [
      "Epoch 5 | Test Loss: 5.1662 | Test WER: 100.00%\n"
     ]
    },
    {
     "name": "stderr",
     "output_type": "stream",
     "text": [
      "Training: 100%|██████████| 709/709 [10:29<00:00,  1.13it/s]\n"
     ]
    },
    {
     "name": "stdout",
     "output_type": "stream",
     "text": [
      "Epoch 6 | Train Loss: 4.9845 | Train WER: 100.00%\n"
     ]
    },
    {
     "name": "stderr",
     "output_type": "stream",
     "text": [
      "Testing: 100%|██████████| 79/79 [00:25<00:00,  3.12it/s]\n"
     ]
    },
    {
     "name": "stdout",
     "output_type": "stream",
     "text": [
      "Epoch 6 | Test Loss: 5.1679 | Test WER: 100.00%\n"
     ]
    },
    {
     "name": "stderr",
     "output_type": "stream",
     "text": [
      "Training: 100%|██████████| 709/709 [10:28<00:00,  1.13it/s]\n"
     ]
    },
    {
     "name": "stdout",
     "output_type": "stream",
     "text": [
      "Epoch 7 | Train Loss: 4.9158 | Train WER: 100.00%\n"
     ]
    },
    {
     "name": "stderr",
     "output_type": "stream",
     "text": [
      "Testing: 100%|██████████| 79/79 [00:25<00:00,  3.12it/s]\n"
     ]
    },
    {
     "name": "stdout",
     "output_type": "stream",
     "text": [
      "Epoch 7 | Test Loss: 5.0925 | Test WER: 100.00%\n"
     ]
    },
    {
     "name": "stderr",
     "output_type": "stream",
     "text": [
      "Training: 100%|██████████| 709/709 [10:28<00:00,  1.13it/s]\n"
     ]
    },
    {
     "name": "stdout",
     "output_type": "stream",
     "text": [
      "Epoch 8 | Train Loss: 4.8337 | Train WER: 100.00%\n"
     ]
    },
    {
     "name": "stderr",
     "output_type": "stream",
     "text": [
      "Testing: 100%|██████████| 79/79 [00:25<00:00,  3.10it/s]\n"
     ]
    },
    {
     "name": "stdout",
     "output_type": "stream",
     "text": [
      "Epoch 8 | Test Loss: 5.0722 | Test WER: 100.00%\n"
     ]
    },
    {
     "name": "stderr",
     "output_type": "stream",
     "text": [
      "Training: 100%|██████████| 709/709 [10:30<00:00,  1.13it/s]\n"
     ]
    },
    {
     "name": "stdout",
     "output_type": "stream",
     "text": [
      "Epoch 9 | Train Loss: 4.7877 | Train WER: 100.00%\n"
     ]
    },
    {
     "name": "stderr",
     "output_type": "stream",
     "text": [
      "Testing: 100%|██████████| 79/79 [00:25<00:00,  3.09it/s]\n"
     ]
    },
    {
     "name": "stdout",
     "output_type": "stream",
     "text": [
      "Epoch 9 | Test Loss: 5.0253 | Test WER: 100.00%\n"
     ]
    },
    {
     "name": "stderr",
     "output_type": "stream",
     "text": [
      "Training: 100%|██████████| 709/709 [10:29<00:00,  1.13it/s]\n"
     ]
    },
    {
     "name": "stdout",
     "output_type": "stream",
     "text": [
      "Epoch 10 | Train Loss: 4.7098 | Train WER: 100.00%\n"
     ]
    },
    {
     "name": "stderr",
     "output_type": "stream",
     "text": [
      "Testing: 100%|██████████| 79/79 [00:25<00:00,  3.09it/s]\n"
     ]
    },
    {
     "name": "stdout",
     "output_type": "stream",
     "text": [
      "Epoch 10 | Test Loss: 4.9379 | Test WER: 100.00%\n"
     ]
    },
    {
     "name": "stderr",
     "output_type": "stream",
     "text": [
      "Training: 100%|██████████| 709/709 [10:31<00:00,  1.12it/s]\n"
     ]
    },
    {
     "name": "stdout",
     "output_type": "stream",
     "text": [
      "Epoch 11 | Train Loss: 4.6093 | Train WER: 100.00%\n"
     ]
    },
    {
     "name": "stderr",
     "output_type": "stream",
     "text": [
      "Testing: 100%|██████████| 79/79 [00:25<00:00,  3.06it/s]\n"
     ]
    },
    {
     "name": "stdout",
     "output_type": "stream",
     "text": [
      "Epoch 11 | Test Loss: 4.8323 | Test WER: 100.00%\n"
     ]
    },
    {
     "name": "stderr",
     "output_type": "stream",
     "text": [
      "Training: 100%|██████████| 709/709 [10:32<00:00,  1.12it/s]\n"
     ]
    },
    {
     "name": "stdout",
     "output_type": "stream",
     "text": [
      "Epoch 12 | Train Loss: 4.4924 | Train WER: 99.95%\n"
     ]
    },
    {
     "name": "stderr",
     "output_type": "stream",
     "text": [
      "Testing: 100%|██████████| 79/79 [00:25<00:00,  3.05it/s]\n"
     ]
    },
    {
     "name": "stdout",
     "output_type": "stream",
     "text": [
      "Epoch 12 | Test Loss: 4.7638 | Test WER: 100.00%\n"
     ]
    },
    {
     "name": "stderr",
     "output_type": "stream",
     "text": [
      "Training: 100%|██████████| 709/709 [10:32<00:00,  1.12it/s]\n"
     ]
    },
    {
     "name": "stdout",
     "output_type": "stream",
     "text": [
      "Epoch 13 | Train Loss: 4.4122 | Train WER: 99.98%\n"
     ]
    },
    {
     "name": "stderr",
     "output_type": "stream",
     "text": [
      "Testing: 100%|██████████| 79/79 [00:25<00:00,  3.06it/s]\n"
     ]
    },
    {
     "name": "stdout",
     "output_type": "stream",
     "text": [
      "Epoch 13 | Test Loss: 4.7030 | Test WER: 100.00%\n"
     ]
    },
    {
     "name": "stderr",
     "output_type": "stream",
     "text": [
      "Training: 100%|██████████| 709/709 [10:32<00:00,  1.12it/s]\n"
     ]
    },
    {
     "name": "stdout",
     "output_type": "stream",
     "text": [
      "Epoch 14 | Train Loss: 4.3516 | Train WER: 100.00%\n"
     ]
    },
    {
     "name": "stderr",
     "output_type": "stream",
     "text": [
      "Testing: 100%|██████████| 79/79 [00:25<00:00,  3.09it/s]\n"
     ]
    },
    {
     "name": "stdout",
     "output_type": "stream",
     "text": [
      "Epoch 14 | Test Loss: 4.6834 | Test WER: 100.00%\n"
     ]
    },
    {
     "name": "stderr",
     "output_type": "stream",
     "text": [
      "Training: 100%|██████████| 709/709 [10:32<00:00,  1.12it/s]\n"
     ]
    },
    {
     "name": "stdout",
     "output_type": "stream",
     "text": [
      "Epoch 15 | Train Loss: 4.2948 | Train WER: 99.96%\n"
     ]
    },
    {
     "name": "stderr",
     "output_type": "stream",
     "text": [
      "Testing: 100%|██████████| 79/79 [00:25<00:00,  3.07it/s]\n"
     ]
    },
    {
     "name": "stdout",
     "output_type": "stream",
     "text": [
      "Epoch 15 | Test Loss: 4.6734 | Test WER: 100.00%\n"
     ]
    },
    {
     "name": "stderr",
     "output_type": "stream",
     "text": [
      "Training: 100%|██████████| 709/709 [10:32<00:00,  1.12it/s]\n"
     ]
    },
    {
     "name": "stdout",
     "output_type": "stream",
     "text": [
      "Epoch 16 | Train Loss: 4.2381 | Train WER: 99.96%\n"
     ]
    },
    {
     "name": "stderr",
     "output_type": "stream",
     "text": [
      "Testing:   6%|▋         | 5/79 [00:02<00:31,  2.38it/s]"
     ]
    }
   ],
   "source": [
    "epochs = 100\n",
    "torch.manual_seed(42)\n",
    "torch.cuda.manual_seed(42)\n",
    "for epoch in range(1,epochs):\n",
    "  train_step(model=model,\n",
    "             optimizer=optimizer,\n",
    "             loss_fn=loss_fn,\n",
    "             epoch=epoch,\n",
    "             dataloader=train_dataloader)\n",
    "  test_step(model=model,\n",
    "            loss_fn=loss_fn,\n",
    "            epoch=epoch,\n",
    "            dataloader=test_dataloader,\n",
    "            scheduler=scheduler)"
   ]
  },
  {
   "cell_type": "code",
   "execution_count": null,
   "id": "a37b4a93",
   "metadata": {
    "id": "a37b4a93"
   },
   "outputs": [],
   "source": []
  }
 ],
 "metadata": {
  "colab": {
   "provenance": []
  },
  "kernelspec": {
   "display_name": "Python 3 (ipykernel)",
   "language": "python",
   "name": "python3"
  },
  "language_info": {
   "codemirror_mode": {
    "name": "ipython",
    "version": 3
   },
   "file_extension": ".py",
   "mimetype": "text/x-python",
   "name": "python",
   "nbconvert_exporter": "python",
   "pygments_lexer": "ipython3",
   "version": "3.11.11"
  },
  "widgets": {
   "application/vnd.jupyter.widget-state+json": {
    "01cc82345e7a4cdc9e6f468307c9fc51": {
     "model_module": "@jupyter-widgets/controls",
     "model_module_version": "2.0.0",
     "model_name": "HBoxModel",
     "state": {
      "_dom_classes": [],
      "_model_module": "@jupyter-widgets/controls",
      "_model_module_version": "2.0.0",
      "_model_name": "HBoxModel",
      "_view_count": null,
      "_view_module": "@jupyter-widgets/controls",
      "_view_module_version": "2.0.0",
      "_view_name": "HBoxView",
      "box_style": "",
      "children": [
       "IPY_MODEL_6c3e37e8377348a29fb5173fc0babd31",
       "IPY_MODEL_d8e2b52df0304c22ab5e9423062f5ae3",
       "IPY_MODEL_d21ede208ace483484a09810b5606391"
      ],
      "layout": "IPY_MODEL_78384ae4a7bd4fc1a003381a4e6b7344",
      "tabbable": null,
      "tooltip": null
     }
    },
    "0b307114ea3d4401a6962d0e882f5d74": {
     "model_module": "@jupyter-widgets/controls",
     "model_module_version": "2.0.0",
     "model_name": "HTMLModel",
     "state": {
      "_dom_classes": [],
      "_model_module": "@jupyter-widgets/controls",
      "_model_module_version": "2.0.0",
      "_model_name": "HTMLModel",
      "_view_count": null,
      "_view_module": "@jupyter-widgets/controls",
      "_view_module_version": "2.0.0",
      "_view_name": "HTMLView",
      "description": "",
      "description_allow_html": false,
      "layout": "IPY_MODEL_5c19f165dd7244948e548a7a814ee732",
      "placeholder": "​",
      "style": "IPY_MODEL_1b538b6478e44f23bbf461ab1d993506",
      "tabbable": null,
      "tooltip": null,
      "value": " 892M/892M [00:03&lt;00:00, 486MB/s]"
     }
    },
    "0d69a30793cd4171a35a65b18ac3c5f9": {
     "model_module": "@jupyter-widgets/controls",
     "model_module_version": "2.0.0",
     "model_name": "HTMLStyleModel",
     "state": {
      "_model_module": "@jupyter-widgets/controls",
      "_model_module_version": "2.0.0",
      "_model_name": "HTMLStyleModel",
      "_view_count": null,
      "_view_module": "@jupyter-widgets/base",
      "_view_module_version": "2.0.0",
      "_view_name": "StyleView",
      "background": null,
      "description_width": "",
      "font_size": null,
      "text_color": null
     }
    },
    "1770f2c941d24560a6d588fd673d8f55": {
     "model_module": "@jupyter-widgets/controls",
     "model_module_version": "2.0.0",
     "model_name": "HTMLModel",
     "state": {
      "_dom_classes": [],
      "_model_module": "@jupyter-widgets/controls",
      "_model_module_version": "2.0.0",
      "_model_name": "HTMLModel",
      "_view_count": null,
      "_view_module": "@jupyter-widgets/controls",
      "_view_module_version": "2.0.0",
      "_view_name": "HTMLView",
      "description": "",
      "description_allow_html": false,
      "layout": "IPY_MODEL_28b1c9d944c24f7c84663d2189d7f368",
      "placeholder": "​",
      "style": "IPY_MODEL_654cf7e39fc84dfebf3f85f3234abf27",
      "tabbable": null,
      "tooltip": null,
      "value": "model.safetensors: 100%"
     }
    },
    "1b538b6478e44f23bbf461ab1d993506": {
     "model_module": "@jupyter-widgets/controls",
     "model_module_version": "2.0.0",
     "model_name": "HTMLStyleModel",
     "state": {
      "_model_module": "@jupyter-widgets/controls",
      "_model_module_version": "2.0.0",
      "_model_name": "HTMLStyleModel",
      "_view_count": null,
      "_view_module": "@jupyter-widgets/base",
      "_view_module_version": "2.0.0",
      "_view_name": "StyleView",
      "background": null,
      "description_width": "",
      "font_size": null,
      "text_color": null
     }
    },
    "23b8cda1e1d74ca4a98a35a1e7df97a3": {
     "model_module": "@jupyter-widgets/base",
     "model_module_version": "2.0.0",
     "model_name": "LayoutModel",
     "state": {
      "_model_module": "@jupyter-widgets/base",
      "_model_module_version": "2.0.0",
      "_model_name": "LayoutModel",
      "_view_count": null,
      "_view_module": "@jupyter-widgets/base",
      "_view_module_version": "2.0.0",
      "_view_name": "LayoutView",
      "align_content": null,
      "align_items": null,
      "align_self": null,
      "border_bottom": null,
      "border_left": null,
      "border_right": null,
      "border_top": null,
      "bottom": null,
      "display": null,
      "flex": null,
      "flex_flow": null,
      "grid_area": null,
      "grid_auto_columns": null,
      "grid_auto_flow": null,
      "grid_auto_rows": null,
      "grid_column": null,
      "grid_gap": null,
      "grid_row": null,
      "grid_template_areas": null,
      "grid_template_columns": null,
      "grid_template_rows": null,
      "height": null,
      "justify_content": null,
      "justify_items": null,
      "left": null,
      "margin": null,
      "max_height": null,
      "max_width": null,
      "min_height": null,
      "min_width": null,
      "object_fit": null,
      "object_position": null,
      "order": null,
      "overflow": null,
      "padding": null,
      "right": null,
      "top": null,
      "visibility": null,
      "width": null
     }
    },
    "25d0800a790e4458ad5f69962113bf61": {
     "model_module": "@jupyter-widgets/base",
     "model_module_version": "2.0.0",
     "model_name": "LayoutModel",
     "state": {
      "_model_module": "@jupyter-widgets/base",
      "_model_module_version": "2.0.0",
      "_model_name": "LayoutModel",
      "_view_count": null,
      "_view_module": "@jupyter-widgets/base",
      "_view_module_version": "2.0.0",
      "_view_name": "LayoutView",
      "align_content": null,
      "align_items": null,
      "align_self": null,
      "border_bottom": null,
      "border_left": null,
      "border_right": null,
      "border_top": null,
      "bottom": null,
      "display": null,
      "flex": null,
      "flex_flow": null,
      "grid_area": null,
      "grid_auto_columns": null,
      "grid_auto_flow": null,
      "grid_auto_rows": null,
      "grid_column": null,
      "grid_gap": null,
      "grid_row": null,
      "grid_template_areas": null,
      "grid_template_columns": null,
      "grid_template_rows": null,
      "height": null,
      "justify_content": null,
      "justify_items": null,
      "left": null,
      "margin": null,
      "max_height": null,
      "max_width": null,
      "min_height": null,
      "min_width": null,
      "object_fit": null,
      "object_position": null,
      "order": null,
      "overflow": null,
      "padding": null,
      "right": null,
      "top": null,
      "visibility": null,
      "width": null
     }
    },
    "28b1c9d944c24f7c84663d2189d7f368": {
     "model_module": "@jupyter-widgets/base",
     "model_module_version": "2.0.0",
     "model_name": "LayoutModel",
     "state": {
      "_model_module": "@jupyter-widgets/base",
      "_model_module_version": "2.0.0",
      "_model_name": "LayoutModel",
      "_view_count": null,
      "_view_module": "@jupyter-widgets/base",
      "_view_module_version": "2.0.0",
      "_view_name": "LayoutView",
      "align_content": null,
      "align_items": null,
      "align_self": null,
      "border_bottom": null,
      "border_left": null,
      "border_right": null,
      "border_top": null,
      "bottom": null,
      "display": null,
      "flex": null,
      "flex_flow": null,
      "grid_area": null,
      "grid_auto_columns": null,
      "grid_auto_flow": null,
      "grid_auto_rows": null,
      "grid_column": null,
      "grid_gap": null,
      "grid_row": null,
      "grid_template_areas": null,
      "grid_template_columns": null,
      "grid_template_rows": null,
      "height": null,
      "justify_content": null,
      "justify_items": null,
      "left": null,
      "margin": null,
      "max_height": null,
      "max_width": null,
      "min_height": null,
      "min_width": null,
      "object_fit": null,
      "object_position": null,
      "order": null,
      "overflow": null,
      "padding": null,
      "right": null,
      "top": null,
      "visibility": null,
      "width": null
     }
    },
    "2d65977aec51492f9f03fcf18d2a4d55": {
     "model_module": "@jupyter-widgets/controls",
     "model_module_version": "2.0.0",
     "model_name": "HTMLModel",
     "state": {
      "_dom_classes": [],
      "_model_module": "@jupyter-widgets/controls",
      "_model_module_version": "2.0.0",
      "_model_name": "HTMLModel",
      "_view_count": null,
      "_view_module": "@jupyter-widgets/controls",
      "_view_module_version": "2.0.0",
      "_view_name": "HTMLView",
      "description": "",
      "description_allow_html": false,
      "layout": "IPY_MODEL_90d9057827b8495690565e6373154b98",
      "placeholder": "​",
      "style": "IPY_MODEL_4c9790c0c51849efb62c390b255bf1bb",
      "tabbable": null,
      "tooltip": null,
      "value": "pytorch_model.bin: 100%"
     }
    },
    "2e0b66d3acdf41d7aa5691f4a07b829f": {
     "model_module": "@jupyter-widgets/controls",
     "model_module_version": "2.0.0",
     "model_name": "HTMLStyleModel",
     "state": {
      "_model_module": "@jupyter-widgets/controls",
      "_model_module_version": "2.0.0",
      "_model_name": "HTMLStyleModel",
      "_view_count": null,
      "_view_module": "@jupyter-widgets/base",
      "_view_module_version": "2.0.0",
      "_view_name": "StyleView",
      "background": null,
      "description_width": "",
      "font_size": null,
      "text_color": null
     }
    },
    "3703e9d62b8b442c871220be5a180cb0": {
     "model_module": "@jupyter-widgets/base",
     "model_module_version": "2.0.0",
     "model_name": "LayoutModel",
     "state": {
      "_model_module": "@jupyter-widgets/base",
      "_model_module_version": "2.0.0",
      "_model_name": "LayoutModel",
      "_view_count": null,
      "_view_module": "@jupyter-widgets/base",
      "_view_module_version": "2.0.0",
      "_view_name": "LayoutView",
      "align_content": null,
      "align_items": null,
      "align_self": null,
      "border_bottom": null,
      "border_left": null,
      "border_right": null,
      "border_top": null,
      "bottom": null,
      "display": null,
      "flex": null,
      "flex_flow": null,
      "grid_area": null,
      "grid_auto_columns": null,
      "grid_auto_flow": null,
      "grid_auto_rows": null,
      "grid_column": null,
      "grid_gap": null,
      "grid_row": null,
      "grid_template_areas": null,
      "grid_template_columns": null,
      "grid_template_rows": null,
      "height": null,
      "justify_content": null,
      "justify_items": null,
      "left": null,
      "margin": null,
      "max_height": null,
      "max_width": null,
      "min_height": null,
      "min_width": null,
      "object_fit": null,
      "object_position": null,
      "order": null,
      "overflow": null,
      "padding": null,
      "right": null,
      "top": null,
      "visibility": null,
      "width": null
     }
    },
    "41398cb782df410ebe3e630b9eb7b697": {
     "model_module": "@jupyter-widgets/controls",
     "model_module_version": "2.0.0",
     "model_name": "HTMLModel",
     "state": {
      "_dom_classes": [],
      "_model_module": "@jupyter-widgets/controls",
      "_model_module_version": "2.0.0",
      "_model_name": "HTMLModel",
      "_view_count": null,
      "_view_module": "@jupyter-widgets/controls",
      "_view_module_version": "2.0.0",
      "_view_name": "HTMLView",
      "description": "",
      "description_allow_html": false,
      "layout": "IPY_MODEL_c178552a9d5844cbac4af5e64c4417f0",
      "placeholder": "​",
      "style": "IPY_MODEL_d64cf0cd91a9472cb43541d8db5eb216",
      "tabbable": null,
      "tooltip": null,
      "value": "model.safetensors: 100%"
     }
    },
    "45dcd6ca200145dea39faf82ca531893": {
     "model_module": "@jupyter-widgets/base",
     "model_module_version": "2.0.0",
     "model_name": "LayoutModel",
     "state": {
      "_model_module": "@jupyter-widgets/base",
      "_model_module_version": "2.0.0",
      "_model_name": "LayoutModel",
      "_view_count": null,
      "_view_module": "@jupyter-widgets/base",
      "_view_module_version": "2.0.0",
      "_view_name": "LayoutView",
      "align_content": null,
      "align_items": null,
      "align_self": null,
      "border_bottom": null,
      "border_left": null,
      "border_right": null,
      "border_top": null,
      "bottom": null,
      "display": null,
      "flex": null,
      "flex_flow": null,
      "grid_area": null,
      "grid_auto_columns": null,
      "grid_auto_flow": null,
      "grid_auto_rows": null,
      "grid_column": null,
      "grid_gap": null,
      "grid_row": null,
      "grid_template_areas": null,
      "grid_template_columns": null,
      "grid_template_rows": null,
      "height": null,
      "justify_content": null,
      "justify_items": null,
      "left": null,
      "margin": null,
      "max_height": null,
      "max_width": null,
      "min_height": null,
      "min_width": null,
      "object_fit": null,
      "object_position": null,
      "order": null,
      "overflow": null,
      "padding": null,
      "right": null,
      "top": null,
      "visibility": null,
      "width": null
     }
    },
    "49295f013beb43c99aff9b24f7edff04": {
     "model_module": "@jupyter-widgets/controls",
     "model_module_version": "2.0.0",
     "model_name": "HTMLModel",
     "state": {
      "_dom_classes": [],
      "_model_module": "@jupyter-widgets/controls",
      "_model_module_version": "2.0.0",
      "_model_name": "HTMLModel",
      "_view_count": null,
      "_view_module": "@jupyter-widgets/controls",
      "_view_module_version": "2.0.0",
      "_view_name": "HTMLView",
      "description": "",
      "description_allow_html": false,
      "layout": "IPY_MODEL_87826c78a9504fdb92368b56d0519372",
      "placeholder": "​",
      "style": "IPY_MODEL_9d2d70a2b5b44cd0a052707d523694ce",
      "tabbable": null,
      "tooltip": null,
      "value": " 356M/356M [00:01&lt;00:00, 231MB/s]"
     }
    },
    "497226411bab46a59ecae438870b63d5": {
     "model_module": "@jupyter-widgets/base",
     "model_module_version": "2.0.0",
     "model_name": "LayoutModel",
     "state": {
      "_model_module": "@jupyter-widgets/base",
      "_model_module_version": "2.0.0",
      "_model_name": "LayoutModel",
      "_view_count": null,
      "_view_module": "@jupyter-widgets/base",
      "_view_module_version": "2.0.0",
      "_view_name": "LayoutView",
      "align_content": null,
      "align_items": null,
      "align_self": null,
      "border_bottom": null,
      "border_left": null,
      "border_right": null,
      "border_top": null,
      "bottom": null,
      "display": null,
      "flex": null,
      "flex_flow": null,
      "grid_area": null,
      "grid_auto_columns": null,
      "grid_auto_flow": null,
      "grid_auto_rows": null,
      "grid_column": null,
      "grid_gap": null,
      "grid_row": null,
      "grid_template_areas": null,
      "grid_template_columns": null,
      "grid_template_rows": null,
      "height": null,
      "justify_content": null,
      "justify_items": null,
      "left": null,
      "margin": null,
      "max_height": null,
      "max_width": null,
      "min_height": null,
      "min_width": null,
      "object_fit": null,
      "object_position": null,
      "order": null,
      "overflow": null,
      "padding": null,
      "right": null,
      "top": null,
      "visibility": null,
      "width": null
     }
    },
    "4a88d9f488334f8499109f9f7a6d550a": {
     "model_module": "@jupyter-widgets/base",
     "model_module_version": "2.0.0",
     "model_name": "LayoutModel",
     "state": {
      "_model_module": "@jupyter-widgets/base",
      "_model_module_version": "2.0.0",
      "_model_name": "LayoutModel",
      "_view_count": null,
      "_view_module": "@jupyter-widgets/base",
      "_view_module_version": "2.0.0",
      "_view_name": "LayoutView",
      "align_content": null,
      "align_items": null,
      "align_self": null,
      "border_bottom": null,
      "border_left": null,
      "border_right": null,
      "border_top": null,
      "bottom": null,
      "display": null,
      "flex": null,
      "flex_flow": null,
      "grid_area": null,
      "grid_auto_columns": null,
      "grid_auto_flow": null,
      "grid_auto_rows": null,
      "grid_column": null,
      "grid_gap": null,
      "grid_row": null,
      "grid_template_areas": null,
      "grid_template_columns": null,
      "grid_template_rows": null,
      "height": null,
      "justify_content": null,
      "justify_items": null,
      "left": null,
      "margin": null,
      "max_height": null,
      "max_width": null,
      "min_height": null,
      "min_width": null,
      "object_fit": null,
      "object_position": null,
      "order": null,
      "overflow": null,
      "padding": null,
      "right": null,
      "top": null,
      "visibility": null,
      "width": null
     }
    },
    "4b578ea47c874a78832022aa151e9665": {
     "model_module": "@jupyter-widgets/controls",
     "model_module_version": "2.0.0",
     "model_name": "HBoxModel",
     "state": {
      "_dom_classes": [],
      "_model_module": "@jupyter-widgets/controls",
      "_model_module_version": "2.0.0",
      "_model_name": "HBoxModel",
      "_view_count": null,
      "_view_module": "@jupyter-widgets/controls",
      "_view_module_version": "2.0.0",
      "_view_name": "HBoxView",
      "box_style": "",
      "children": [
       "IPY_MODEL_1770f2c941d24560a6d588fd673d8f55",
       "IPY_MODEL_b0becd0b507c49f8b43c8099f4362111",
       "IPY_MODEL_0b307114ea3d4401a6962d0e882f5d74"
      ],
      "layout": "IPY_MODEL_9ddef57a51db4edfa7db2b2f992bfeb7",
      "tabbable": null,
      "tooltip": null
     }
    },
    "4c9790c0c51849efb62c390b255bf1bb": {
     "model_module": "@jupyter-widgets/controls",
     "model_module_version": "2.0.0",
     "model_name": "HTMLStyleModel",
     "state": {
      "_model_module": "@jupyter-widgets/controls",
      "_model_module_version": "2.0.0",
      "_model_name": "HTMLStyleModel",
      "_view_count": null,
      "_view_module": "@jupyter-widgets/base",
      "_view_module_version": "2.0.0",
      "_view_name": "StyleView",
      "background": null,
      "description_width": "",
      "font_size": null,
      "text_color": null
     }
    },
    "5715ee8a16344c98b22016f871a1087b": {
     "model_module": "@jupyter-widgets/base",
     "model_module_version": "2.0.0",
     "model_name": "LayoutModel",
     "state": {
      "_model_module": "@jupyter-widgets/base",
      "_model_module_version": "2.0.0",
      "_model_name": "LayoutModel",
      "_view_count": null,
      "_view_module": "@jupyter-widgets/base",
      "_view_module_version": "2.0.0",
      "_view_name": "LayoutView",
      "align_content": null,
      "align_items": null,
      "align_self": null,
      "border_bottom": null,
      "border_left": null,
      "border_right": null,
      "border_top": null,
      "bottom": null,
      "display": null,
      "flex": null,
      "flex_flow": null,
      "grid_area": null,
      "grid_auto_columns": null,
      "grid_auto_flow": null,
      "grid_auto_rows": null,
      "grid_column": null,
      "grid_gap": null,
      "grid_row": null,
      "grid_template_areas": null,
      "grid_template_columns": null,
      "grid_template_rows": null,
      "height": null,
      "justify_content": null,
      "justify_items": null,
      "left": null,
      "margin": null,
      "max_height": null,
      "max_width": null,
      "min_height": null,
      "min_width": null,
      "object_fit": null,
      "object_position": null,
      "order": null,
      "overflow": null,
      "padding": null,
      "right": null,
      "top": null,
      "visibility": null,
      "width": null
     }
    },
    "5757caddcfd049b5a56fd45c1026a073": {
     "model_module": "@jupyter-widgets/controls",
     "model_module_version": "2.0.0",
     "model_name": "HTMLStyleModel",
     "state": {
      "_model_module": "@jupyter-widgets/controls",
      "_model_module_version": "2.0.0",
      "_model_name": "HTMLStyleModel",
      "_view_count": null,
      "_view_module": "@jupyter-widgets/base",
      "_view_module_version": "2.0.0",
      "_view_name": "StyleView",
      "background": null,
      "description_width": "",
      "font_size": null,
      "text_color": null
     }
    },
    "5c19f165dd7244948e548a7a814ee732": {
     "model_module": "@jupyter-widgets/base",
     "model_module_version": "2.0.0",
     "model_name": "LayoutModel",
     "state": {
      "_model_module": "@jupyter-widgets/base",
      "_model_module_version": "2.0.0",
      "_model_name": "LayoutModel",
      "_view_count": null,
      "_view_module": "@jupyter-widgets/base",
      "_view_module_version": "2.0.0",
      "_view_name": "LayoutView",
      "align_content": null,
      "align_items": null,
      "align_self": null,
      "border_bottom": null,
      "border_left": null,
      "border_right": null,
      "border_top": null,
      "bottom": null,
      "display": null,
      "flex": null,
      "flex_flow": null,
      "grid_area": null,
      "grid_auto_columns": null,
      "grid_auto_flow": null,
      "grid_auto_rows": null,
      "grid_column": null,
      "grid_gap": null,
      "grid_row": null,
      "grid_template_areas": null,
      "grid_template_columns": null,
      "grid_template_rows": null,
      "height": null,
      "justify_content": null,
      "justify_items": null,
      "left": null,
      "margin": null,
      "max_height": null,
      "max_width": null,
      "min_height": null,
      "min_width": null,
      "object_fit": null,
      "object_position": null,
      "order": null,
      "overflow": null,
      "padding": null,
      "right": null,
      "top": null,
      "visibility": null,
      "width": null
     }
    },
    "5d04a5ec16174be18a163428bc3b48a0": {
     "model_module": "@jupyter-widgets/base",
     "model_module_version": "2.0.0",
     "model_name": "LayoutModel",
     "state": {
      "_model_module": "@jupyter-widgets/base",
      "_model_module_version": "2.0.0",
      "_model_name": "LayoutModel",
      "_view_count": null,
      "_view_module": "@jupyter-widgets/base",
      "_view_module_version": "2.0.0",
      "_view_name": "LayoutView",
      "align_content": null,
      "align_items": null,
      "align_self": null,
      "border_bottom": null,
      "border_left": null,
      "border_right": null,
      "border_top": null,
      "bottom": null,
      "display": null,
      "flex": null,
      "flex_flow": null,
      "grid_area": null,
      "grid_auto_columns": null,
      "grid_auto_flow": null,
      "grid_auto_rows": null,
      "grid_column": null,
      "grid_gap": null,
      "grid_row": null,
      "grid_template_areas": null,
      "grid_template_columns": null,
      "grid_template_rows": null,
      "height": null,
      "justify_content": null,
      "justify_items": null,
      "left": null,
      "margin": null,
      "max_height": null,
      "max_width": null,
      "min_height": null,
      "min_width": null,
      "object_fit": null,
      "object_position": null,
      "order": null,
      "overflow": null,
      "padding": null,
      "right": null,
      "top": null,
      "visibility": null,
      "width": null
     }
    },
    "654cf7e39fc84dfebf3f85f3234abf27": {
     "model_module": "@jupyter-widgets/controls",
     "model_module_version": "2.0.0",
     "model_name": "HTMLStyleModel",
     "state": {
      "_model_module": "@jupyter-widgets/controls",
      "_model_module_version": "2.0.0",
      "_model_name": "HTMLStyleModel",
      "_view_count": null,
      "_view_module": "@jupyter-widgets/base",
      "_view_module_version": "2.0.0",
      "_view_name": "StyleView",
      "background": null,
      "description_width": "",
      "font_size": null,
      "text_color": null
     }
    },
    "6652062dc57347d690977bc4d2b9c9e4": {
     "model_module": "@jupyter-widgets/base",
     "model_module_version": "2.0.0",
     "model_name": "LayoutModel",
     "state": {
      "_model_module": "@jupyter-widgets/base",
      "_model_module_version": "2.0.0",
      "_model_name": "LayoutModel",
      "_view_count": null,
      "_view_module": "@jupyter-widgets/base",
      "_view_module_version": "2.0.0",
      "_view_name": "LayoutView",
      "align_content": null,
      "align_items": null,
      "align_self": null,
      "border_bottom": null,
      "border_left": null,
      "border_right": null,
      "border_top": null,
      "bottom": null,
      "display": null,
      "flex": null,
      "flex_flow": null,
      "grid_area": null,
      "grid_auto_columns": null,
      "grid_auto_flow": null,
      "grid_auto_rows": null,
      "grid_column": null,
      "grid_gap": null,
      "grid_row": null,
      "grid_template_areas": null,
      "grid_template_columns": null,
      "grid_template_rows": null,
      "height": null,
      "justify_content": null,
      "justify_items": null,
      "left": null,
      "margin": null,
      "max_height": null,
      "max_width": null,
      "min_height": null,
      "min_width": null,
      "object_fit": null,
      "object_position": null,
      "order": null,
      "overflow": null,
      "padding": null,
      "right": null,
      "top": null,
      "visibility": null,
      "width": null
     }
    },
    "6a8c9587e5d34b4a8c3a19e21c6dd6e8": {
     "model_module": "@jupyter-widgets/base",
     "model_module_version": "2.0.0",
     "model_name": "LayoutModel",
     "state": {
      "_model_module": "@jupyter-widgets/base",
      "_model_module_version": "2.0.0",
      "_model_name": "LayoutModel",
      "_view_count": null,
      "_view_module": "@jupyter-widgets/base",
      "_view_module_version": "2.0.0",
      "_view_name": "LayoutView",
      "align_content": null,
      "align_items": null,
      "align_self": null,
      "border_bottom": null,
      "border_left": null,
      "border_right": null,
      "border_top": null,
      "bottom": null,
      "display": null,
      "flex": null,
      "flex_flow": null,
      "grid_area": null,
      "grid_auto_columns": null,
      "grid_auto_flow": null,
      "grid_auto_rows": null,
      "grid_column": null,
      "grid_gap": null,
      "grid_row": null,
      "grid_template_areas": null,
      "grid_template_columns": null,
      "grid_template_rows": null,
      "height": null,
      "justify_content": null,
      "justify_items": null,
      "left": null,
      "margin": null,
      "max_height": null,
      "max_width": null,
      "min_height": null,
      "min_width": null,
      "object_fit": null,
      "object_position": null,
      "order": null,
      "overflow": null,
      "padding": null,
      "right": null,
      "top": null,
      "visibility": null,
      "width": null
     }
    },
    "6c3e37e8377348a29fb5173fc0babd31": {
     "model_module": "@jupyter-widgets/controls",
     "model_module_version": "2.0.0",
     "model_name": "HTMLModel",
     "state": {
      "_dom_classes": [],
      "_model_module": "@jupyter-widgets/controls",
      "_model_module_version": "2.0.0",
      "_model_name": "HTMLModel",
      "_view_count": null,
      "_view_module": "@jupyter-widgets/controls",
      "_view_module_version": "2.0.0",
      "_view_name": "HTMLView",
      "description": "",
      "description_allow_html": false,
      "layout": "IPY_MODEL_f2fac7a6889d49759e3b4052bb2c26a6",
      "placeholder": "​",
      "style": "IPY_MODEL_7a55e8785f0b4623bfb9f6d867860e80",
      "tabbable": null,
      "tooltip": null,
      "value": "generation_config.json: 100%"
     }
    },
    "780ef69a285c4721986522f8561a622c": {
     "model_module": "@jupyter-widgets/controls",
     "model_module_version": "2.0.0",
     "model_name": "FloatProgressModel",
     "state": {
      "_dom_classes": [],
      "_model_module": "@jupyter-widgets/controls",
      "_model_module_version": "2.0.0",
      "_model_name": "FloatProgressModel",
      "_view_count": null,
      "_view_module": "@jupyter-widgets/controls",
      "_view_module_version": "2.0.0",
      "_view_name": "ProgressView",
      "bar_style": "success",
      "description": "",
      "description_allow_html": false,
      "layout": "IPY_MODEL_5d04a5ec16174be18a163428bc3b48a0",
      "max": 18554,
      "min": 0,
      "orientation": "horizontal",
      "style": "IPY_MODEL_f18d0b33c66b4034a6a124046a6d0d23",
      "tabbable": null,
      "tooltip": null,
      "value": 18554
     }
    },
    "78384ae4a7bd4fc1a003381a4e6b7344": {
     "model_module": "@jupyter-widgets/base",
     "model_module_version": "2.0.0",
     "model_name": "LayoutModel",
     "state": {
      "_model_module": "@jupyter-widgets/base",
      "_model_module_version": "2.0.0",
      "_model_name": "LayoutModel",
      "_view_count": null,
      "_view_module": "@jupyter-widgets/base",
      "_view_module_version": "2.0.0",
      "_view_name": "LayoutView",
      "align_content": null,
      "align_items": null,
      "align_self": null,
      "border_bottom": null,
      "border_left": null,
      "border_right": null,
      "border_top": null,
      "bottom": null,
      "display": null,
      "flex": null,
      "flex_flow": null,
      "grid_area": null,
      "grid_auto_columns": null,
      "grid_auto_flow": null,
      "grid_auto_rows": null,
      "grid_column": null,
      "grid_gap": null,
      "grid_row": null,
      "grid_template_areas": null,
      "grid_template_columns": null,
      "grid_template_rows": null,
      "height": null,
      "justify_content": null,
      "justify_items": null,
      "left": null,
      "margin": null,
      "max_height": null,
      "max_width": null,
      "min_height": null,
      "min_width": null,
      "object_fit": null,
      "object_position": null,
      "order": null,
      "overflow": null,
      "padding": null,
      "right": null,
      "top": null,
      "visibility": null,
      "width": null
     }
    },
    "7992f0356f48454c82094fb447b756ae": {
     "model_module": "@jupyter-widgets/controls",
     "model_module_version": "2.0.0",
     "model_name": "ProgressStyleModel",
     "state": {
      "_model_module": "@jupyter-widgets/controls",
      "_model_module_version": "2.0.0",
      "_model_name": "ProgressStyleModel",
      "_view_count": null,
      "_view_module": "@jupyter-widgets/base",
      "_view_module_version": "2.0.0",
      "_view_name": "StyleView",
      "bar_color": null,
      "description_width": ""
     }
    },
    "7a55e8785f0b4623bfb9f6d867860e80": {
     "model_module": "@jupyter-widgets/controls",
     "model_module_version": "2.0.0",
     "model_name": "HTMLStyleModel",
     "state": {
      "_model_module": "@jupyter-widgets/controls",
      "_model_module_version": "2.0.0",
      "_model_name": "HTMLStyleModel",
      "_view_count": null,
      "_view_module": "@jupyter-widgets/base",
      "_view_module_version": "2.0.0",
      "_view_name": "StyleView",
      "background": null,
      "description_width": "",
      "font_size": null,
      "text_color": null
     }
    },
    "7ae9efd034a444b6a617a0ee0f376fdd": {
     "model_module": "@jupyter-widgets/base",
     "model_module_version": "2.0.0",
     "model_name": "LayoutModel",
     "state": {
      "_model_module": "@jupyter-widgets/base",
      "_model_module_version": "2.0.0",
      "_model_name": "LayoutModel",
      "_view_count": null,
      "_view_module": "@jupyter-widgets/base",
      "_view_module_version": "2.0.0",
      "_view_name": "LayoutView",
      "align_content": null,
      "align_items": null,
      "align_self": null,
      "border_bottom": null,
      "border_left": null,
      "border_right": null,
      "border_top": null,
      "bottom": null,
      "display": null,
      "flex": null,
      "flex_flow": null,
      "grid_area": null,
      "grid_auto_columns": null,
      "grid_auto_flow": null,
      "grid_auto_rows": null,
      "grid_column": null,
      "grid_gap": null,
      "grid_row": null,
      "grid_template_areas": null,
      "grid_template_columns": null,
      "grid_template_rows": null,
      "height": null,
      "justify_content": null,
      "justify_items": null,
      "left": null,
      "margin": null,
      "max_height": null,
      "max_width": null,
      "min_height": null,
      "min_width": null,
      "object_fit": null,
      "object_position": null,
      "order": null,
      "overflow": null,
      "padding": null,
      "right": null,
      "top": null,
      "visibility": null,
      "width": null
     }
    },
    "849d8dc7f3094a0eabdf901cb3f4d7d2": {
     "model_module": "@jupyter-widgets/controls",
     "model_module_version": "2.0.0",
     "model_name": "HBoxModel",
     "state": {
      "_dom_classes": [],
      "_model_module": "@jupyter-widgets/controls",
      "_model_module_version": "2.0.0",
      "_model_name": "HBoxModel",
      "_view_count": null,
      "_view_module": "@jupyter-widgets/controls",
      "_view_module_version": "2.0.0",
      "_view_name": "HBoxView",
      "box_style": "",
      "children": [
       "IPY_MODEL_41398cb782df410ebe3e630b9eb7b697",
       "IPY_MODEL_f015f46172874a0bad5043369972342d",
       "IPY_MODEL_49295f013beb43c99aff9b24f7edff04"
      ],
      "layout": "IPY_MODEL_b8ff37aa3fb14352920a3c5a4aecaa16",
      "tabbable": null,
      "tooltip": null
     }
    },
    "85a0fded05fe44bd810ee70599ff9bcc": {
     "model_module": "@jupyter-widgets/controls",
     "model_module_version": "2.0.0",
     "model_name": "ProgressStyleModel",
     "state": {
      "_model_module": "@jupyter-widgets/controls",
      "_model_module_version": "2.0.0",
      "_model_name": "ProgressStyleModel",
      "_view_count": null,
      "_view_module": "@jupyter-widgets/base",
      "_view_module_version": "2.0.0",
      "_view_name": "StyleView",
      "bar_color": null,
      "description_width": ""
     }
    },
    "87826c78a9504fdb92368b56d0519372": {
     "model_module": "@jupyter-widgets/base",
     "model_module_version": "2.0.0",
     "model_name": "LayoutModel",
     "state": {
      "_model_module": "@jupyter-widgets/base",
      "_model_module_version": "2.0.0",
      "_model_name": "LayoutModel",
      "_view_count": null,
      "_view_module": "@jupyter-widgets/base",
      "_view_module_version": "2.0.0",
      "_view_name": "LayoutView",
      "align_content": null,
      "align_items": null,
      "align_self": null,
      "border_bottom": null,
      "border_left": null,
      "border_right": null,
      "border_top": null,
      "bottom": null,
      "display": null,
      "flex": null,
      "flex_flow": null,
      "grid_area": null,
      "grid_auto_columns": null,
      "grid_auto_flow": null,
      "grid_auto_rows": null,
      "grid_column": null,
      "grid_gap": null,
      "grid_row": null,
      "grid_template_areas": null,
      "grid_template_columns": null,
      "grid_template_rows": null,
      "height": null,
      "justify_content": null,
      "justify_items": null,
      "left": null,
      "margin": null,
      "max_height": null,
      "max_width": null,
      "min_height": null,
      "min_width": null,
      "object_fit": null,
      "object_position": null,
      "order": null,
      "overflow": null,
      "padding": null,
      "right": null,
      "top": null,
      "visibility": null,
      "width": null
     }
    },
    "8e4ef9adce7f458bb4e050c7f89bcf07": {
     "model_module": "@jupyter-widgets/controls",
     "model_module_version": "2.0.0",
     "model_name": "HTMLModel",
     "state": {
      "_dom_classes": [],
      "_model_module": "@jupyter-widgets/controls",
      "_model_module_version": "2.0.0",
      "_model_name": "HTMLModel",
      "_view_count": null,
      "_view_module": "@jupyter-widgets/controls",
      "_view_module_version": "2.0.0",
      "_view_name": "HTMLView",
      "description": "",
      "description_allow_html": false,
      "layout": "IPY_MODEL_25d0800a790e4458ad5f69962113bf61",
      "placeholder": "​",
      "style": "IPY_MODEL_dbea70edd0f448ddb9261d56ad7daf2b",
      "tabbable": null,
      "tooltip": null,
      "value": " 18.6k/18.6k [00:00&lt;00:00, 1.70MB/s]"
     }
    },
    "8f54c4504c8f43f1823a5f817fa5c5a1": {
     "model_module": "@jupyter-widgets/base",
     "model_module_version": "2.0.0",
     "model_name": "LayoutModel",
     "state": {
      "_model_module": "@jupyter-widgets/base",
      "_model_module_version": "2.0.0",
      "_model_name": "LayoutModel",
      "_view_count": null,
      "_view_module": "@jupyter-widgets/base",
      "_view_module_version": "2.0.0",
      "_view_name": "LayoutView",
      "align_content": null,
      "align_items": null,
      "align_self": null,
      "border_bottom": null,
      "border_left": null,
      "border_right": null,
      "border_top": null,
      "bottom": null,
      "display": null,
      "flex": null,
      "flex_flow": null,
      "grid_area": null,
      "grid_auto_columns": null,
      "grid_auto_flow": null,
      "grid_auto_rows": null,
      "grid_column": null,
      "grid_gap": null,
      "grid_row": null,
      "grid_template_areas": null,
      "grid_template_columns": null,
      "grid_template_rows": null,
      "height": null,
      "justify_content": null,
      "justify_items": null,
      "left": null,
      "margin": null,
      "max_height": null,
      "max_width": null,
      "min_height": null,
      "min_width": null,
      "object_fit": null,
      "object_position": null,
      "order": null,
      "overflow": null,
      "padding": null,
      "right": null,
      "top": null,
      "visibility": null,
      "width": null
     }
    },
    "90d9057827b8495690565e6373154b98": {
     "model_module": "@jupyter-widgets/base",
     "model_module_version": "2.0.0",
     "model_name": "LayoutModel",
     "state": {
      "_model_module": "@jupyter-widgets/base",
      "_model_module_version": "2.0.0",
      "_model_name": "LayoutModel",
      "_view_count": null,
      "_view_module": "@jupyter-widgets/base",
      "_view_module_version": "2.0.0",
      "_view_name": "LayoutView",
      "align_content": null,
      "align_items": null,
      "align_self": null,
      "border_bottom": null,
      "border_left": null,
      "border_right": null,
      "border_top": null,
      "bottom": null,
      "display": null,
      "flex": null,
      "flex_flow": null,
      "grid_area": null,
      "grid_auto_columns": null,
      "grid_auto_flow": null,
      "grid_auto_rows": null,
      "grid_column": null,
      "grid_gap": null,
      "grid_row": null,
      "grid_template_areas": null,
      "grid_template_columns": null,
      "grid_template_rows": null,
      "height": null,
      "justify_content": null,
      "justify_items": null,
      "left": null,
      "margin": null,
      "max_height": null,
      "max_width": null,
      "min_height": null,
      "min_width": null,
      "object_fit": null,
      "object_position": null,
      "order": null,
      "overflow": null,
      "padding": null,
      "right": null,
      "top": null,
      "visibility": null,
      "width": null
     }
    },
    "9157beba0fc8482b8667a92f4a37e669": {
     "model_module": "@jupyter-widgets/controls",
     "model_module_version": "2.0.0",
     "model_name": "HTMLModel",
     "state": {
      "_dom_classes": [],
      "_model_module": "@jupyter-widgets/controls",
      "_model_module_version": "2.0.0",
      "_model_name": "HTMLModel",
      "_view_count": null,
      "_view_module": "@jupyter-widgets/controls",
      "_view_module_version": "2.0.0",
      "_view_name": "HTMLView",
      "description": "",
      "description_allow_html": false,
      "layout": "IPY_MODEL_6a8c9587e5d34b4a8c3a19e21c6dd6e8",
      "placeholder": "​",
      "style": "IPY_MODEL_e7438f5f90a54f6bafbfedefbb2ebbba",
      "tabbable": null,
      "tooltip": null,
      "value": " 1.21k/1.21k [00:00&lt;00:00, 94.1kB/s]"
     }
    },
    "979bd8cad277431a88d142b98c8858e5": {
     "model_module": "@jupyter-widgets/base",
     "model_module_version": "2.0.0",
     "model_name": "LayoutModel",
     "state": {
      "_model_module": "@jupyter-widgets/base",
      "_model_module_version": "2.0.0",
      "_model_name": "LayoutModel",
      "_view_count": null,
      "_view_module": "@jupyter-widgets/base",
      "_view_module_version": "2.0.0",
      "_view_name": "LayoutView",
      "align_content": null,
      "align_items": null,
      "align_self": null,
      "border_bottom": null,
      "border_left": null,
      "border_right": null,
      "border_top": null,
      "bottom": null,
      "display": null,
      "flex": null,
      "flex_flow": null,
      "grid_area": null,
      "grid_auto_columns": null,
      "grid_auto_flow": null,
      "grid_auto_rows": null,
      "grid_column": null,
      "grid_gap": null,
      "grid_row": null,
      "grid_template_areas": null,
      "grid_template_columns": null,
      "grid_template_rows": null,
      "height": null,
      "justify_content": null,
      "justify_items": null,
      "left": null,
      "margin": null,
      "max_height": null,
      "max_width": null,
      "min_height": null,
      "min_width": null,
      "object_fit": null,
      "object_position": null,
      "order": null,
      "overflow": null,
      "padding": null,
      "right": null,
      "top": null,
      "visibility": null,
      "width": null
     }
    },
    "9882970928a44a4e86af27ee22b7acc9": {
     "model_module": "@jupyter-widgets/base",
     "model_module_version": "2.0.0",
     "model_name": "LayoutModel",
     "state": {
      "_model_module": "@jupyter-widgets/base",
      "_model_module_version": "2.0.0",
      "_model_name": "LayoutModel",
      "_view_count": null,
      "_view_module": "@jupyter-widgets/base",
      "_view_module_version": "2.0.0",
      "_view_name": "LayoutView",
      "align_content": null,
      "align_items": null,
      "align_self": null,
      "border_bottom": null,
      "border_left": null,
      "border_right": null,
      "border_top": null,
      "bottom": null,
      "display": null,
      "flex": null,
      "flex_flow": null,
      "grid_area": null,
      "grid_auto_columns": null,
      "grid_auto_flow": null,
      "grid_auto_rows": null,
      "grid_column": null,
      "grid_gap": null,
      "grid_row": null,
      "grid_template_areas": null,
      "grid_template_columns": null,
      "grid_template_rows": null,
      "height": null,
      "justify_content": null,
      "justify_items": null,
      "left": null,
      "margin": null,
      "max_height": null,
      "max_width": null,
      "min_height": null,
      "min_width": null,
      "object_fit": null,
      "object_position": null,
      "order": null,
      "overflow": null,
      "padding": null,
      "right": null,
      "top": null,
      "visibility": null,
      "width": null
     }
    },
    "9d2d70a2b5b44cd0a052707d523694ce": {
     "model_module": "@jupyter-widgets/controls",
     "model_module_version": "2.0.0",
     "model_name": "HTMLStyleModel",
     "state": {
      "_model_module": "@jupyter-widgets/controls",
      "_model_module_version": "2.0.0",
      "_model_name": "HTMLStyleModel",
      "_view_count": null,
      "_view_module": "@jupyter-widgets/base",
      "_view_module_version": "2.0.0",
      "_view_name": "StyleView",
      "background": null,
      "description_width": "",
      "font_size": null,
      "text_color": null
     }
    },
    "9ddef57a51db4edfa7db2b2f992bfeb7": {
     "model_module": "@jupyter-widgets/base",
     "model_module_version": "2.0.0",
     "model_name": "LayoutModel",
     "state": {
      "_model_module": "@jupyter-widgets/base",
      "_model_module_version": "2.0.0",
      "_model_name": "LayoutModel",
      "_view_count": null,
      "_view_module": "@jupyter-widgets/base",
      "_view_module_version": "2.0.0",
      "_view_name": "LayoutView",
      "align_content": null,
      "align_items": null,
      "align_self": null,
      "border_bottom": null,
      "border_left": null,
      "border_right": null,
      "border_top": null,
      "bottom": null,
      "display": null,
      "flex": null,
      "flex_flow": null,
      "grid_area": null,
      "grid_auto_columns": null,
      "grid_auto_flow": null,
      "grid_auto_rows": null,
      "grid_column": null,
      "grid_gap": null,
      "grid_row": null,
      "grid_template_areas": null,
      "grid_template_columns": null,
      "grid_template_rows": null,
      "height": null,
      "justify_content": null,
      "justify_items": null,
      "left": null,
      "margin": null,
      "max_height": null,
      "max_width": null,
      "min_height": null,
      "min_width": null,
      "object_fit": null,
      "object_position": null,
      "order": null,
      "overflow": null,
      "padding": null,
      "right": null,
      "top": null,
      "visibility": null,
      "width": null
     }
    },
    "abd2c86d1f1f48969fb45210a3e13075": {
     "model_module": "@jupyter-widgets/controls",
     "model_module_version": "2.0.0",
     "model_name": "HBoxModel",
     "state": {
      "_dom_classes": [],
      "_model_module": "@jupyter-widgets/controls",
      "_model_module_version": "2.0.0",
      "_model_name": "HBoxModel",
      "_view_count": null,
      "_view_module": "@jupyter-widgets/controls",
      "_view_module_version": "2.0.0",
      "_view_name": "HBoxView",
      "box_style": "",
      "children": [
       "IPY_MODEL_ca773282c7074ae18f55fa856943b2a9",
       "IPY_MODEL_b576778b68d1443d99f3ed15abb21d10",
       "IPY_MODEL_9157beba0fc8482b8667a92f4a37e669"
      ],
      "layout": "IPY_MODEL_8f54c4504c8f43f1823a5f817fa5c5a1",
      "tabbable": null,
      "tooltip": null
     }
    },
    "aca793d4833b4975bdb586f8b88b2463": {
     "model_module": "@jupyter-widgets/controls",
     "model_module_version": "2.0.0",
     "model_name": "ProgressStyleModel",
     "state": {
      "_model_module": "@jupyter-widgets/controls",
      "_model_module_version": "2.0.0",
      "_model_name": "ProgressStyleModel",
      "_view_count": null,
      "_view_module": "@jupyter-widgets/base",
      "_view_module_version": "2.0.0",
      "_view_name": "StyleView",
      "bar_color": null,
      "description_width": ""
     }
    },
    "b0becd0b507c49f8b43c8099f4362111": {
     "model_module": "@jupyter-widgets/controls",
     "model_module_version": "2.0.0",
     "model_name": "FloatProgressModel",
     "state": {
      "_dom_classes": [],
      "_model_module": "@jupyter-widgets/controls",
      "_model_module_version": "2.0.0",
      "_model_name": "FloatProgressModel",
      "_view_count": null,
      "_view_module": "@jupyter-widgets/controls",
      "_view_module_version": "2.0.0",
      "_view_name": "ProgressView",
      "bar_style": "success",
      "description": "",
      "description_allow_html": false,
      "layout": "IPY_MODEL_4a88d9f488334f8499109f9f7a6d550a",
      "max": 891646390,
      "min": 0,
      "orientation": "horizontal",
      "style": "IPY_MODEL_c0c800233f434e52b2380892c81bb055",
      "tabbable": null,
      "tooltip": null,
      "value": 891646390
     }
    },
    "b576778b68d1443d99f3ed15abb21d10": {
     "model_module": "@jupyter-widgets/controls",
     "model_module_version": "2.0.0",
     "model_name": "FloatProgressModel",
     "state": {
      "_dom_classes": [],
      "_model_module": "@jupyter-widgets/controls",
      "_model_module_version": "2.0.0",
      "_model_name": "FloatProgressModel",
      "_view_count": null,
      "_view_module": "@jupyter-widgets/controls",
      "_view_module_version": "2.0.0",
      "_view_name": "ProgressView",
      "bar_style": "success",
      "description": "",
      "description_allow_html": false,
      "layout": "IPY_MODEL_3703e9d62b8b442c871220be5a180cb0",
      "max": 1208,
      "min": 0,
      "orientation": "horizontal",
      "style": "IPY_MODEL_7992f0356f48454c82094fb447b756ae",
      "tabbable": null,
      "tooltip": null,
      "value": 1208
     }
    },
    "b8660bd63ab14a4cb0d300c5a8fbed0e": {
     "model_module": "@jupyter-widgets/base",
     "model_module_version": "2.0.0",
     "model_name": "LayoutModel",
     "state": {
      "_model_module": "@jupyter-widgets/base",
      "_model_module_version": "2.0.0",
      "_model_name": "LayoutModel",
      "_view_count": null,
      "_view_module": "@jupyter-widgets/base",
      "_view_module_version": "2.0.0",
      "_view_name": "LayoutView",
      "align_content": null,
      "align_items": null,
      "align_self": null,
      "border_bottom": null,
      "border_left": null,
      "border_right": null,
      "border_top": null,
      "bottom": null,
      "display": null,
      "flex": null,
      "flex_flow": null,
      "grid_area": null,
      "grid_auto_columns": null,
      "grid_auto_flow": null,
      "grid_auto_rows": null,
      "grid_column": null,
      "grid_gap": null,
      "grid_row": null,
      "grid_template_areas": null,
      "grid_template_columns": null,
      "grid_template_rows": null,
      "height": null,
      "justify_content": null,
      "justify_items": null,
      "left": null,
      "margin": null,
      "max_height": null,
      "max_width": null,
      "min_height": null,
      "min_width": null,
      "object_fit": null,
      "object_position": null,
      "order": null,
      "overflow": null,
      "padding": null,
      "right": null,
      "top": null,
      "visibility": null,
      "width": null
     }
    },
    "b8ff37aa3fb14352920a3c5a4aecaa16": {
     "model_module": "@jupyter-widgets/base",
     "model_module_version": "2.0.0",
     "model_name": "LayoutModel",
     "state": {
      "_model_module": "@jupyter-widgets/base",
      "_model_module_version": "2.0.0",
      "_model_name": "LayoutModel",
      "_view_count": null,
      "_view_module": "@jupyter-widgets/base",
      "_view_module_version": "2.0.0",
      "_view_name": "LayoutView",
      "align_content": null,
      "align_items": null,
      "align_self": null,
      "border_bottom": null,
      "border_left": null,
      "border_right": null,
      "border_top": null,
      "bottom": null,
      "display": null,
      "flex": null,
      "flex_flow": null,
      "grid_area": null,
      "grid_auto_columns": null,
      "grid_auto_flow": null,
      "grid_auto_rows": null,
      "grid_column": null,
      "grid_gap": null,
      "grid_row": null,
      "grid_template_areas": null,
      "grid_template_columns": null,
      "grid_template_rows": null,
      "height": null,
      "justify_content": null,
      "justify_items": null,
      "left": null,
      "margin": null,
      "max_height": null,
      "max_width": null,
      "min_height": null,
      "min_width": null,
      "object_fit": null,
      "object_position": null,
      "order": null,
      "overflow": null,
      "padding": null,
      "right": null,
      "top": null,
      "visibility": null,
      "width": null
     }
    },
    "c01e06a439e3459eb35b4697351d24d0": {
     "model_module": "@jupyter-widgets/controls",
     "model_module_version": "2.0.0",
     "model_name": "FloatProgressModel",
     "state": {
      "_dom_classes": [],
      "_model_module": "@jupyter-widgets/controls",
      "_model_module_version": "2.0.0",
      "_model_name": "FloatProgressModel",
      "_view_count": null,
      "_view_module": "@jupyter-widgets/controls",
      "_view_module_version": "2.0.0",
      "_view_name": "ProgressView",
      "bar_style": "success",
      "description": "",
      "description_allow_html": false,
      "layout": "IPY_MODEL_7ae9efd034a444b6a617a0ee0f376fdd",
      "max": 355881581,
      "min": 0,
      "orientation": "horizontal",
      "style": "IPY_MODEL_aca793d4833b4975bdb586f8b88b2463",
      "tabbable": null,
      "tooltip": null,
      "value": 355881581
     }
    },
    "c0c800233f434e52b2380892c81bb055": {
     "model_module": "@jupyter-widgets/controls",
     "model_module_version": "2.0.0",
     "model_name": "ProgressStyleModel",
     "state": {
      "_model_module": "@jupyter-widgets/controls",
      "_model_module_version": "2.0.0",
      "_model_name": "ProgressStyleModel",
      "_view_count": null,
      "_view_module": "@jupyter-widgets/base",
      "_view_module_version": "2.0.0",
      "_view_name": "StyleView",
      "bar_color": null,
      "description_width": ""
     }
    },
    "c178552a9d5844cbac4af5e64c4417f0": {
     "model_module": "@jupyter-widgets/base",
     "model_module_version": "2.0.0",
     "model_name": "LayoutModel",
     "state": {
      "_model_module": "@jupyter-widgets/base",
      "_model_module_version": "2.0.0",
      "_model_name": "LayoutModel",
      "_view_count": null,
      "_view_module": "@jupyter-widgets/base",
      "_view_module_version": "2.0.0",
      "_view_name": "LayoutView",
      "align_content": null,
      "align_items": null,
      "align_self": null,
      "border_bottom": null,
      "border_left": null,
      "border_right": null,
      "border_top": null,
      "bottom": null,
      "display": null,
      "flex": null,
      "flex_flow": null,
      "grid_area": null,
      "grid_auto_columns": null,
      "grid_auto_flow": null,
      "grid_auto_rows": null,
      "grid_column": null,
      "grid_gap": null,
      "grid_row": null,
      "grid_template_areas": null,
      "grid_template_columns": null,
      "grid_template_rows": null,
      "height": null,
      "justify_content": null,
      "justify_items": null,
      "left": null,
      "margin": null,
      "max_height": null,
      "max_width": null,
      "min_height": null,
      "min_width": null,
      "object_fit": null,
      "object_position": null,
      "order": null,
      "overflow": null,
      "padding": null,
      "right": null,
      "top": null,
      "visibility": null,
      "width": null
     }
    },
    "c71863618b544b4cbb9e63f611f5188a": {
     "model_module": "@jupyter-widgets/controls",
     "model_module_version": "2.0.0",
     "model_name": "HBoxModel",
     "state": {
      "_dom_classes": [],
      "_model_module": "@jupyter-widgets/controls",
      "_model_module_version": "2.0.0",
      "_model_name": "HBoxModel",
      "_view_count": null,
      "_view_module": "@jupyter-widgets/controls",
      "_view_module_version": "2.0.0",
      "_view_name": "HBoxView",
      "box_style": "",
      "children": [
       "IPY_MODEL_ee2727c8b59d4aafb840ca9fe17a02a4",
       "IPY_MODEL_780ef69a285c4721986522f8561a622c",
       "IPY_MODEL_8e4ef9adce7f458bb4e050c7f89bcf07"
      ],
      "layout": "IPY_MODEL_497226411bab46a59ecae438870b63d5",
      "tabbable": null,
      "tooltip": null
     }
    },
    "ca773282c7074ae18f55fa856943b2a9": {
     "model_module": "@jupyter-widgets/controls",
     "model_module_version": "2.0.0",
     "model_name": "HTMLModel",
     "state": {
      "_dom_classes": [],
      "_model_module": "@jupyter-widgets/controls",
      "_model_module_version": "2.0.0",
      "_model_name": "HTMLModel",
      "_view_count": null,
      "_view_module": "@jupyter-widgets/controls",
      "_view_module_version": "2.0.0",
      "_view_name": "HTMLView",
      "description": "",
      "description_allow_html": false,
      "layout": "IPY_MODEL_23b8cda1e1d74ca4a98a35a1e7df97a3",
      "placeholder": "​",
      "style": "IPY_MODEL_2e0b66d3acdf41d7aa5691f4a07b829f",
      "tabbable": null,
      "tooltip": null,
      "value": "config.json: 100%"
     }
    },
    "d21ede208ace483484a09810b5606391": {
     "model_module": "@jupyter-widgets/controls",
     "model_module_version": "2.0.0",
     "model_name": "HTMLModel",
     "state": {
      "_dom_classes": [],
      "_model_module": "@jupyter-widgets/controls",
      "_model_module_version": "2.0.0",
      "_model_name": "HTMLModel",
      "_view_count": null,
      "_view_module": "@jupyter-widgets/controls",
      "_view_module_version": "2.0.0",
      "_view_name": "HTMLView",
      "description": "",
      "description_allow_html": false,
      "layout": "IPY_MODEL_5715ee8a16344c98b22016f871a1087b",
      "placeholder": "​",
      "style": "IPY_MODEL_ea5576ca076846bfb665b4e4a37af97f",
      "tabbable": null,
      "tooltip": null,
      "value": " 147/147 [00:00&lt;00:00, 15.0kB/s]"
     }
    },
    "d64cf0cd91a9472cb43541d8db5eb216": {
     "model_module": "@jupyter-widgets/controls",
     "model_module_version": "2.0.0",
     "model_name": "HTMLStyleModel",
     "state": {
      "_model_module": "@jupyter-widgets/controls",
      "_model_module_version": "2.0.0",
      "_model_name": "HTMLStyleModel",
      "_view_count": null,
      "_view_module": "@jupyter-widgets/base",
      "_view_module_version": "2.0.0",
      "_view_name": "StyleView",
      "background": null,
      "description_width": "",
      "font_size": null,
      "text_color": null
     }
    },
    "d8e2b52df0304c22ab5e9423062f5ae3": {
     "model_module": "@jupyter-widgets/controls",
     "model_module_version": "2.0.0",
     "model_name": "FloatProgressModel",
     "state": {
      "_dom_classes": [],
      "_model_module": "@jupyter-widgets/controls",
      "_model_module_version": "2.0.0",
      "_model_name": "FloatProgressModel",
      "_view_count": null,
      "_view_module": "@jupyter-widgets/controls",
      "_view_module_version": "2.0.0",
      "_view_name": "ProgressView",
      "bar_style": "success",
      "description": "",
      "description_allow_html": false,
      "layout": "IPY_MODEL_b8660bd63ab14a4cb0d300c5a8fbed0e",
      "max": 147,
      "min": 0,
      "orientation": "horizontal",
      "style": "IPY_MODEL_85a0fded05fe44bd810ee70599ff9bcc",
      "tabbable": null,
      "tooltip": null,
      "value": 147
     }
    },
    "dbea70edd0f448ddb9261d56ad7daf2b": {
     "model_module": "@jupyter-widgets/controls",
     "model_module_version": "2.0.0",
     "model_name": "HTMLStyleModel",
     "state": {
      "_model_module": "@jupyter-widgets/controls",
      "_model_module_version": "2.0.0",
      "_model_name": "HTMLStyleModel",
      "_view_count": null,
      "_view_module": "@jupyter-widgets/base",
      "_view_module_version": "2.0.0",
      "_view_name": "StyleView",
      "background": null,
      "description_width": "",
      "font_size": null,
      "text_color": null
     }
    },
    "e7438f5f90a54f6bafbfedefbb2ebbba": {
     "model_module": "@jupyter-widgets/controls",
     "model_module_version": "2.0.0",
     "model_name": "HTMLStyleModel",
     "state": {
      "_model_module": "@jupyter-widgets/controls",
      "_model_module_version": "2.0.0",
      "_model_name": "HTMLStyleModel",
      "_view_count": null,
      "_view_module": "@jupyter-widgets/base",
      "_view_module_version": "2.0.0",
      "_view_name": "StyleView",
      "background": null,
      "description_width": "",
      "font_size": null,
      "text_color": null
     }
    },
    "ea5576ca076846bfb665b4e4a37af97f": {
     "model_module": "@jupyter-widgets/controls",
     "model_module_version": "2.0.0",
     "model_name": "HTMLStyleModel",
     "state": {
      "_model_module": "@jupyter-widgets/controls",
      "_model_module_version": "2.0.0",
      "_model_name": "HTMLStyleModel",
      "_view_count": null,
      "_view_module": "@jupyter-widgets/base",
      "_view_module_version": "2.0.0",
      "_view_name": "StyleView",
      "background": null,
      "description_width": "",
      "font_size": null,
      "text_color": null
     }
    },
    "eacdf4f346924a2c995ff1623f8cd1a7": {
     "model_module": "@jupyter-widgets/controls",
     "model_module_version": "2.0.0",
     "model_name": "HTMLModel",
     "state": {
      "_dom_classes": [],
      "_model_module": "@jupyter-widgets/controls",
      "_model_module_version": "2.0.0",
      "_model_name": "HTMLModel",
      "_view_count": null,
      "_view_module": "@jupyter-widgets/controls",
      "_view_module_version": "2.0.0",
      "_view_name": "HTMLView",
      "description": "",
      "description_allow_html": false,
      "layout": "IPY_MODEL_9882970928a44a4e86af27ee22b7acc9",
      "placeholder": "​",
      "style": "IPY_MODEL_5757caddcfd049b5a56fd45c1026a073",
      "tabbable": null,
      "tooltip": null,
      "value": " 356M/356M [00:01&lt;00:00, 182MB/s]"
     }
    },
    "ee2727c8b59d4aafb840ca9fe17a02a4": {
     "model_module": "@jupyter-widgets/controls",
     "model_module_version": "2.0.0",
     "model_name": "HTMLModel",
     "state": {
      "_dom_classes": [],
      "_model_module": "@jupyter-widgets/controls",
      "_model_module_version": "2.0.0",
      "_model_name": "HTMLModel",
      "_view_count": null,
      "_view_module": "@jupyter-widgets/controls",
      "_view_module_version": "2.0.0",
      "_view_name": "HTMLView",
      "description": "",
      "description_allow_html": false,
      "layout": "IPY_MODEL_979bd8cad277431a88d142b98c8858e5",
      "placeholder": "​",
      "style": "IPY_MODEL_0d69a30793cd4171a35a65b18ac3c5f9",
      "tabbable": null,
      "tooltip": null,
      "value": "config.json: 100%"
     }
    },
    "efd81974a8c8479fb67686deea5654d8": {
     "model_module": "@jupyter-widgets/controls",
     "model_module_version": "2.0.0",
     "model_name": "ProgressStyleModel",
     "state": {
      "_model_module": "@jupyter-widgets/controls",
      "_model_module_version": "2.0.0",
      "_model_name": "ProgressStyleModel",
      "_view_count": null,
      "_view_module": "@jupyter-widgets/base",
      "_view_module_version": "2.0.0",
      "_view_name": "StyleView",
      "bar_color": null,
      "description_width": ""
     }
    },
    "f015f46172874a0bad5043369972342d": {
     "model_module": "@jupyter-widgets/controls",
     "model_module_version": "2.0.0",
     "model_name": "FloatProgressModel",
     "state": {
      "_dom_classes": [],
      "_model_module": "@jupyter-widgets/controls",
      "_model_module_version": "2.0.0",
      "_model_name": "FloatProgressModel",
      "_view_count": null,
      "_view_module": "@jupyter-widgets/controls",
      "_view_module_version": "2.0.0",
      "_view_name": "ProgressView",
      "bar_style": "success",
      "description": "",
      "description_allow_html": false,
      "layout": "IPY_MODEL_45dcd6ca200145dea39faf82ca531893",
      "max": 355839648,
      "min": 0,
      "orientation": "horizontal",
      "style": "IPY_MODEL_efd81974a8c8479fb67686deea5654d8",
      "tabbable": null,
      "tooltip": null,
      "value": 355839648
     }
    },
    "f18d0b33c66b4034a6a124046a6d0d23": {
     "model_module": "@jupyter-widgets/controls",
     "model_module_version": "2.0.0",
     "model_name": "ProgressStyleModel",
     "state": {
      "_model_module": "@jupyter-widgets/controls",
      "_model_module_version": "2.0.0",
      "_model_name": "ProgressStyleModel",
      "_view_count": null,
      "_view_module": "@jupyter-widgets/base",
      "_view_module_version": "2.0.0",
      "_view_name": "StyleView",
      "bar_color": null,
      "description_width": ""
     }
    },
    "f2fac7a6889d49759e3b4052bb2c26a6": {
     "model_module": "@jupyter-widgets/base",
     "model_module_version": "2.0.0",
     "model_name": "LayoutModel",
     "state": {
      "_model_module": "@jupyter-widgets/base",
      "_model_module_version": "2.0.0",
      "_model_name": "LayoutModel",
      "_view_count": null,
      "_view_module": "@jupyter-widgets/base",
      "_view_module_version": "2.0.0",
      "_view_name": "LayoutView",
      "align_content": null,
      "align_items": null,
      "align_self": null,
      "border_bottom": null,
      "border_left": null,
      "border_right": null,
      "border_top": null,
      "bottom": null,
      "display": null,
      "flex": null,
      "flex_flow": null,
      "grid_area": null,
      "grid_auto_columns": null,
      "grid_auto_flow": null,
      "grid_auto_rows": null,
      "grid_column": null,
      "grid_gap": null,
      "grid_row": null,
      "grid_template_areas": null,
      "grid_template_columns": null,
      "grid_template_rows": null,
      "height": null,
      "justify_content": null,
      "justify_items": null,
      "left": null,
      "margin": null,
      "max_height": null,
      "max_width": null,
      "min_height": null,
      "min_width": null,
      "object_fit": null,
      "object_position": null,
      "order": null,
      "overflow": null,
      "padding": null,
      "right": null,
      "top": null,
      "visibility": null,
      "width": null
     }
    },
    "f804a0c393074b44806fa44ce31264b0": {
     "model_module": "@jupyter-widgets/controls",
     "model_module_version": "2.0.0",
     "model_name": "HBoxModel",
     "state": {
      "_dom_classes": [],
      "_model_module": "@jupyter-widgets/controls",
      "_model_module_version": "2.0.0",
      "_model_name": "HBoxModel",
      "_view_count": null,
      "_view_module": "@jupyter-widgets/controls",
      "_view_module_version": "2.0.0",
      "_view_name": "HBoxView",
      "box_style": "",
      "children": [
       "IPY_MODEL_2d65977aec51492f9f03fcf18d2a4d55",
       "IPY_MODEL_c01e06a439e3459eb35b4697351d24d0",
       "IPY_MODEL_eacdf4f346924a2c995ff1623f8cd1a7"
      ],
      "layout": "IPY_MODEL_6652062dc57347d690977bc4d2b9c9e4",
      "tabbable": null,
      "tooltip": null
     }
    }
   }
  }
 },
 "nbformat": 4,
 "nbformat_minor": 5
}
