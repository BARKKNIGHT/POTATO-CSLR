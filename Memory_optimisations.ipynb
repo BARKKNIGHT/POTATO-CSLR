{
 "cells": [
  {
   "cell_type": "code",
   "execution_count": null,
   "id": "06ca011b",
   "metadata": {},
   "outputs": [],
   "source": [
    "import torch\n",
    "from torch import nn\n",
    "from torchvision import models, transforms\n",
    "from torch.utils.data import Dataset, DataLoader, random_split\n",
    "from torch.amp import autocast, GradScaler\n",
    "import torchvision\n",
    "from torch.optim.lr_scheduler import ReduceLROnPlateau\n",
    "\n",
    "from transformers import VivitConfig, VivitModel\n",
    "\n",
    "from tqdm.notebook import tqdm\n",
    "# from tqdm import tqdm\n",
    "from PIL import Image\n",
    "import json\n",
    "import os\n",
    "import numpy as np\n",
    "import random\n",
    "\n",
    "import matplotlib.pyplot as plt\n",
    "import matplotlib.gridspec as gridspec\n",
    "\n",
    "from data.rwth_phoenix import rwth_phoenix\n",
    "from data.dataloader import collate_fn\n",
    "\n",
    "from models.Vivit_r3d_tf import ViViT_SLR\n",
    "\n",
    "from utils.visualization import show_sequence\n",
    "from utils.mem_optim import preload_data\n",
    "\n",
    "from train_test.train_test_step import decode_token, train_step, test_step"
   ]
  },
  {
   "cell_type": "code",
   "execution_count": 3,
   "id": "cfd8dc14",
   "metadata": {},
   "outputs": [],
   "source": [
    "device = 'cuda' if torch.cuda.is_available() else 'cpu'\n",
    "random.seed(42)"
   ]
  },
  {
   "cell_type": "code",
   "execution_count": null,
   "id": "d6450ee0",
   "metadata": {},
   "outputs": [],
   "source": [
    "train_csv = \"/kaggle/input/hmmmmmm/phoenix/annotations/manual/train.corpus.csv\"\n",
    "test_csv = \"/kaggle/input/hmmmmmm/phoenix/annotations/manual/test.corpus.csv\"\n",
    "dev_csv = \"/kaggle/input/hmmmmmm/phoenix/annotations/manual/dev.corpus.csv\"\n",
    "\n",
    "train_paths = \"/kaggle/input/hmmmmmm/phoenix/fullFrame-210x260px/train\"\n",
    "test_paths = \"/kaggle/input/hmmmmmm/phoenix/fullFrame-210x260px/test\"\n",
    "dev_paths =  \"/kaggle/input/hmmmmmm/phoenix/fullFrame-210x260px/dev\""
   ]
  },
  {
   "cell_type": "code",
   "execution_count": 10,
   "id": "5d5285d5",
   "metadata": {},
   "outputs": [],
   "source": [
    "max_frames = 32"
   ]
  },
  {
   "cell_type": "code",
   "execution_count": null,
   "id": "2510d479",
   "metadata": {},
   "outputs": [],
   "source": [
    "num_workers = 4\n",
    "batch_size = 2"
   ]
  },
  {
   "cell_type": "code",
   "execution_count": 5,
   "id": "5e8e643c",
   "metadata": {},
   "outputs": [],
   "source": [
    "word_to_idx = { '<p>':0, '<s>':1, '</s>':2}\n",
    "idx_to_word = ['<p>', '<s>', '</s>']\n",
    "\n",
    "arr_train = np.loadtxt(train_csv, delimiter='|', dtype='str')\n",
    "arr_train = np.delete(arr_train,0,0)\n",
    "arr_test = np.loadtxt(test_csv, delimiter='|', dtype='str')\n",
    "arr_test = np.delete(arr_test,0,0)\n",
    "arr_dev = np.loadtxt(dev_csv, delimiter='|', dtype='str')\n",
    "arr_dev = np.delete(arr_dev,0,0)\n",
    "\n",
    "arr = np.concatenate((arr_train, arr_test, arr_dev), axis=0)\n",
    "\n",
    "for sentence in arr:\n",
    "    for word in sentence[3].split(' '):\n",
    "        if word not in idx_to_word:\n",
    "            idx_to_word.append(word)\n",
    "            word_to_idx[word] = len(idx_to_word)-1"
   ]
  },
  {
   "cell_type": "code",
   "execution_count": 6,
   "id": "240964dc",
   "metadata": {},
   "outputs": [
    {
     "data": {
      "text/plain": [
       "(1299, 1299)"
      ]
     },
     "execution_count": 6,
     "metadata": {},
     "output_type": "execute_result"
    }
   ],
   "source": [
    "len(idx_to_word), len(word_to_idx)"
   ]
  },
  {
   "cell_type": "code",
   "execution_count": 7,
   "id": "c0c4203f",
   "metadata": {},
   "outputs": [],
   "source": [
    "image_transform = transforms.Compose([\n",
    "    transforms.ToTensor(),\n",
    "    transforms.RandomCrop((248,200)),\n",
    "    transforms.Resize((224,224)),\n",
    "    transforms.RandomRotation((-5,5))\n",
    "])\n",
    "\n",
    "video_transform = transforms.Compose([\n",
    "    transforms.RandomHorizontalFlip(0.5)\n",
    "])"
   ]
  },
  {
   "cell_type": "code",
   "execution_count": 8,
   "id": "b44498ed",
   "metadata": {},
   "outputs": [],
   "source": [
    "image_test_transform = transforms.Compose([\n",
    "    transforms.ToTensor(),\n",
    "    transforms.Resize((224,224)),\n",
    "])\n",
    "\n",
    "video_test_transform = transforms.Compose([\n",
    "    transforms.RandomHorizontalFlip(0)\n",
    "])"
   ]
  },
  {
   "cell_type": "code",
   "execution_count": null,
   "id": "e540a270",
   "metadata": {},
   "outputs": [],
   "source": [
    "train_dataset = rwth_phoenix(csv=train_csv,\n",
    "                       data_path=train_paths,\n",
    "                        frame_transform=image_transform , video_transform=video_transform, input_fps=25, output_fps=list(range(4,10)), max_frames=max_frames, stride=0, word_dict=word_to_idx)\n",
    "\n",
    "test_dataset = rwth_phoenix(csv=test_csv,\n",
    "                       data_path=train_paths,\n",
    "                        frame_transform=image_test_transform , video_transform=video_test_transform, input_fps=25, output_fps=list(range(4,10)), max_frames=max_frames, stride=0, word_dict=word_to_idx)\n",
    "\n",
    "dev_dataset = rwth_phoenix(csv=dev_csv,\n",
    "                       data_path=dev_paths,\n",
    "                        frame_transform=image_test_transform , video_transform=video_test_transform, input_fps=25, output_fps=list(range(4,10)), max_frames=max_frames, stride=0, word_dict=word_to_idx)"
   ]
  },
  {
   "cell_type": "code",
   "execution_count": 14,
   "id": "e7c8b65f",
   "metadata": {},
   "outputs": [
    {
     "data": {
      "text/plain": [
       "torch.Size([32, 3, 224, 224])"
      ]
     },
     "execution_count": 14,
     "metadata": {},
     "output_type": "execute_result"
    }
   ],
   "source": [
    "train_dataset[0][0].shape"
   ]
  },
  {
   "cell_type": "code",
   "execution_count": null,
   "id": "a54a5373",
   "metadata": {},
   "outputs": [],
   "source": [
    "train_dataloader = DataLoader(dataset=train_dataset, shuffle=True, batch_size=batch_size, collate_fn=collate_fn,prefetch_factor=5,num_workers=num_workers, pin_memory=True)\n",
    "test_dataloader = DataLoader(dataset=test_dataset, shuffle=False, batch_size=batch_size, collate_fn=collate_fn,prefetch_factor=5,num_workers=num_workers, pin_memory=True)\n",
    "dev_dataloader = DataLoader(dataset=dev_dataset, shuffle=False, batch_size=batch_size, collate_fn=collate_fn,prefetch_factor=5,num_workers=num_workers, pin_memory=True)"
   ]
  },
  {
   "cell_type": "code",
   "execution_count": null,
   "id": "709ebd1c",
   "metadata": {},
   "outputs": [],
   "source": [
    "train_data = preload_data(train_dataloader, 'train')\n",
    "test_data = preload_data(test_dataloader, 'test')\n",
    "dev_data = preload_data(dev_dataloader, 'dev')"
   ]
  },
  {
   "cell_type": "code",
   "execution_count": null,
   "id": "77cd18b0",
   "metadata": {},
   "outputs": [],
   "source": [
    "lr = 1e-4\n",
    "dropout = 0.1"
   ]
  },
  {
   "cell_type": "code",
   "execution_count": null,
   "id": "77d074fe",
   "metadata": {},
   "outputs": [],
   "source": [
    "torch.manual_seed(42)\n",
    "torch.cuda.manual_seed(42)\n",
    "device = \"cuda\"\n",
    "\n",
    "model = ViViT_SLR(\n",
    "                 vocab_size=len(idx_to_word),\n",
    "                 d_model=768,\n",
    "                 nhead=8,\n",
    "                 num_decoder_layers=4,\n",
    "                 dim_feedforward=3072,\n",
    "                 dropout=dropout,\n",
    "                 batch_first=True,\n",
    "                 num_heads=4,\n",
    "                 pad_token=0,\n",
    "                 sos_token=1,\n",
    "                 eos_token=2,\n",
    "                 residual_ratio=0,\n",
    "                 max_pred=512).to(device)\n",
    "# checkpoint = torch.load(f=\"/kaggle/input/vvocr_final/pytorch/default/1/VVOCR.pth\")\n",
    "# new_state_dict = checkpoint[\"model_state_dict\"]\n",
    "# model.load_state_dict(new_state_dict, strict=True)\n",
    "# model = nn.DataParallel(model)\n",
    "# checkpoint = torch.load(f=\"/kaggle/input/vvocr/pytorch/default/1/VVOCR.pth\")\n",
    "# from collections import OrderedDict\n",
    "\n",
    "# new_state_dict = OrderedDict()\n",
    "# for k, v in checkpoint['model_state_dict'].items():\n",
    "#     new_key = k.replace(\"module.\", \"\")  # strip 'module.' prefix\n",
    "#     new_state_dict[new_key] = v\n",
    "# model.load_state_dict(new_state_dict, strict=True)\n",
    "loss_fn = nn.CrossEntropyLoss(ignore_index=0, label_smoothing=0.1)\n",
    "optimizer = torch.optim.Adam(model.parameters(), lr=lr)\n",
    "scheduler = ReduceLROnPlateau(\n",
    "    optimizer,\n",
    "    mode='min',\n",
    "    factor=0.5,\n",
    "    patience=2,\n",
    "    min_lr=1e-6,\n",
    ")"
   ]
  },
  {
   "cell_type": "code",
   "execution_count": null,
   "id": "f18f767f",
   "metadata": {},
   "outputs": [],
   "source": [
    "epochs = 10\n",
    "torch.manual_seed(42)\n",
    "torch.cuda.manual_seed(42)\n",
    "for epoch in tqdm(range(epochs), 'epochs'):\n",
    "  train_step(model=model,\n",
    "             optimizer=optimizer,\n",
    "             loss_fn=loss_fn,\n",
    "             epoch=epoch,\n",
    "             dataloader=train_data)\n",
    "  test_step(model=model,\n",
    "            loss_fn=loss_fn,\n",
    "            epoch=epoch,\n",
    "            dataloader=test_data,\n",
    "            scheduler=scheduler\n",
    "           )"
   ]
  }
 ],
 "metadata": {
  "kernelspec": {
   "display_name": "Python 3 (ipykernel)",
   "language": "python",
   "name": "python3"
  },
  "language_info": {
   "codemirror_mode": {
    "name": "ipython",
    "version": 3
   },
   "file_extension": ".py",
   "mimetype": "text/x-python",
   "name": "python",
   "nbconvert_exporter": "python",
   "pygments_lexer": "ipython3",
   "version": "3.11.11"
  }
 },
 "nbformat": 4,
 "nbformat_minor": 5
}
